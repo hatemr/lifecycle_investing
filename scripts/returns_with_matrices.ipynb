{
 "cells": [
  {
   "cell_type": "code",
   "execution_count": 64,
   "metadata": {
    "id": "DW4p6c6QIc3N"
   },
   "outputs": [],
   "source": [
    "import datetime\n",
    "import numpy as np\n",
    "import pandas as pd\n",
    "import os\n",
    "import sys\n",
    "from importlib import reload\n",
    "import matplotlib.pyplot as plt\n",
    "import seaborn as sns\n",
    "from time import time\n",
    "sys.path.append(\"..\")"
   ]
  },
  {
   "cell_type": "code",
   "execution_count": 2,
   "metadata": {},
   "outputs": [],
   "source": [
    "import lc_investing.rwm\n",
    "lc_investing.rwm = reload(lc_investing.rwm)\n",
    "\n",
    "import lc_investing.constant_percent_stock\n",
    "lc_investing.constant_percent_stock = reload(lc_investing.constant_percent_stock)"
   ]
  },
  {
   "cell_type": "code",
   "execution_count": 145,
   "metadata": {},
   "outputs": [
    {
     "name": "stdout",
     "output_type": "stream",
     "text": [
      "0.113 mins\n"
     ]
    }
   ],
   "source": [
    "t0=time()\n",
    "\n",
    "s2 = lc_investing.constant_percent_stock.Simulation(#data_folder='/content/drive/Othercomputers/My MacBook Air/Taxes_and_other_forms/lifecycle_investing/lc_investing/data/',\n",
    "                                                    data_folder='..\\\\lc_investing\\\\data\\\\',\n",
    "                                                    bondadj=0,\n",
    "                                                    #margadj=marg_adj,\n",
    "                                                    stockadj=0,\n",
    "                                                    #lambdacons=labmdacons, # stock allocation\n",
    "                                                    start_age=30,\n",
    "                                                    start_amt=1,\n",
    "                                                    #max_rate = r,\n",
    "                                                    #borrowing_rate_override=borr_rate\n",
    ")\n",
    "print(round((time()-t0)/60, 3), 'mins')\n"
   ]
  },
  {
   "cell_type": "code",
   "execution_count": 139,
   "metadata": {},
   "outputs": [
    {
     "name": "stdout",
     "output_type": "stream",
     "text": [
      "(100, 529, 1)\n",
      "(100, 529, 3)\n",
      "(100, 529, 3)\n"
     ]
    }
   ],
   "source": [
    "M = 100\n",
    "\n",
    "R_A = 1+s2.monthly_data.loc[0:1661, ['Months_beginning_Jan_1871',\n",
    "                        'Monthly_real_gov_bond_rate',\n",
    "                        'Monthly_real_margin_rate', \n",
    "                        'Monthly_real_stock_rate']].values[:529,1:].reshape(-1,3)\n",
    "\n",
    "# multiple cohorts\n",
    "R_A = np.repeat(R_A[np.newaxis,:,:], M, axis=0)\n",
    "\n",
    "p = np.zeros((R_A.shape[0], R_A.shape[1], 1))\n",
    "fv_0 = 1   # start with $1\n",
    "W = np.repeat([[[0,0,1]]], R_A.shape[1], axis=1)\n",
    "W = np.repeat(W, M, axis=0)\n",
    "\n",
    "print(p.shape)\n",
    "print(R_A.shape)\n",
    "print(W.shape)"
   ]
  },
  {
   "cell_type": "code",
   "execution_count": 144,
   "metadata": {},
   "outputs": [
    {
     "name": "stdout",
     "output_type": "stream",
     "text": [
      "0\n",
      "50\n",
      "100\n",
      "150\n",
      "200\n",
      "250\n",
      "300\n",
      "350\n",
      "400\n",
      "450\n",
      "500\n",
      "2.862 mins\n",
      "(1, 1)\n"
     ]
    }
   ],
   "source": [
    "def compute_rwm(p: np.array, \n",
    "                fv_0: float, \n",
    "                R_A: np.array, \n",
    "                W: np.array, \n",
    "                funcP=None, \n",
    "                funcW=None):\n",
    "    \"\"\"\n",
    "    Compute returns using matrices\n",
    "    \"\"\"\n",
    "    \n",
    "    assert p.ndim==R_A.ndim==W.ndim==3, 'Must be 3-d arrays'\n",
    "    assert R_A.shape[2]==3, 'Must be three assets'\n",
    "    assert p.shape[0]==R_A.shape[0]==W.shape[0], 'Number of cohorts must be equal'\n",
    "\n",
    "    p[0] = fv_0\n",
    "    T = R_A.shape[1]\n",
    "    M = R_A.shape[0]\n",
    "    \n",
    "    for t in range(0,T):\n",
    "        if t%50==0: print(t)\n",
    "        if t>1:\n",
    "            pass\n",
    "            #p[:,t,0]=5\n",
    "            #W[:,t,:] = np.array([0,0,1]) #funcW()\n",
    "        P = np.triu(np.matmul(p[:,0:t+1,:], np.ones((M,1,t+1))))   # use t+1 to reduce computation\n",
    "        #print(P.shape)\n",
    "        \n",
    "        R_P = np.matmul(R_A[:,0:t+1,:], np.transpose(W, axes=(0,2,1))[:,:,0:t+1])  # keep t+1 columns to reduce computation\n",
    "        #print('R_P', R_P.shape)\n",
    "        \n",
    "        \n",
    "        r_t = np.diagonal(R_P, axis1=1, axis2=2).reshape(-1, t+1, 1)  # keep t+1 columns to reduce computation\n",
    "        #print('r_t',r_t.shape)\n",
    "        \n",
    "        R_t = np.matmul(np.ones((M,t+1,1)), np.transpose(r_t, (0,2,1)))  # keep t+1 columns to reduce computation\n",
    "        #print('R_t', R_t.shape)\n",
    "        \n",
    "        # set lower triangle to 1\n",
    "        I,J = np.tril_indices(t+1, -1) # keep t+1 columns to reduce computation\n",
    "        R_t[:,I,J]=1\n",
    "        \n",
    "        R = np.cumprod(R_t, axis=2)\n",
    "        #print('R',R.shape)\n",
    "#         if t==1: \n",
    "#             raise Exception('RH')\n",
    "              \n",
    "        #print('P^T', np.transpose(P[:,t:t+1,:], (0,2,1)).shape)\n",
    "        FV = np.diagonal(np.matmul(np.transpose(P[:,:,t:t+1], (0,2,1)), R[:,:,t:t+1]))\n",
    "        #print('FV', FV.shape)\n",
    "        \n",
    "    \n",
    "    return FV\n",
    "t0=time()\n",
    "out = compute_rwm(p, fv_0, R_A, W)\n",
    "print(round((time()-t0)/60, 3), 'mins')\n",
    "print(out.shape)\n",
    "\n",
    "# 1 min = 20 cohorts"
   ]
  },
  {
   "cell_type": "code",
   "execution_count": 143,
   "metadata": {},
   "outputs": [
    {
     "data": {
      "text/plain": [
       "array([[2586.96341039]])"
      ]
     },
     "execution_count": 143,
     "metadata": {},
     "output_type": "execute_result"
    }
   ],
   "source": [
    "out"
   ]
  }
 ],
 "metadata": {
  "colab": {
   "authorship_tag": "ABX9TyM6NUJSodve9FozCE5raX6y",
   "collapsed_sections": [],
   "mount_file_id": "1O6W4dG3de2mpFOk-I46BXsYfYmSiQFE8",
   "provenance": []
  },
  "kernelspec": {
   "display_name": "Python 3 (ipykernel)",
   "language": "python",
   "name": "python3"
  },
  "language_info": {
   "codemirror_mode": {
    "name": "ipython",
    "version": 3
   },
   "file_extension": ".py",
   "mimetype": "text/x-python",
   "name": "python",
   "nbconvert_exporter": "python",
   "pygments_lexer": "ipython3",
   "version": "3.10.0"
  }
 },
 "nbformat": 4,
 "nbformat_minor": 1
}
