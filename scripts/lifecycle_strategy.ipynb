{
 "cells": [
  {
   "cell_type": "code",
   "execution_count": 22,
   "metadata": {
    "id": "DW4p6c6QIc3N"
   },
   "outputs": [],
   "source": [
    "import datetime\n",
    "import numpy as np\n",
    "import pandas as pd\n",
    "import os\n",
    "import sys\n",
    "from importlib import reload\n",
    "import matplotlib.pyplot as plt\n",
    "import seaborn as sns\n",
    "sys.path.append('..')"
   ]
  },
  {
   "cell_type": "markdown",
   "metadata": {},
   "source": [
    "This notebook replicates some results of _Lifecycle Investing_'s excel simulations, found on their website."
   ]
  },
  {
   "cell_type": "code",
   "execution_count": 23,
   "metadata": {
    "colab": {
     "base_uri": "https://localhost:8080/"
    },
    "executionInfo": {
     "elapsed": 5554,
     "status": "ok",
     "timestamp": 1666547069677,
     "user": {
      "displayName": "Robert Hatem",
      "userId": "10465428883948047643"
     },
     "user_tz": 240
    },
    "id": "i6i2VFtpK-9M",
    "outputId": "912d31f1-fd07-4806-f438-4010e0915985"
   },
   "outputs": [
    {
     "data": {
      "text/plain": [
       "count    9.600000e+01\n",
       "mean     6.465746e+05\n",
       "std      1.686988e+05\n",
       "min      2.903095e+05\n",
       "25%      5.393432e+05\n",
       "50%      6.415549e+05\n",
       "75%      7.790439e+05\n",
       "max      1.026903e+06\n",
       "Name: Final, dtype: float64"
      ]
     },
     "execution_count": 23,
     "metadata": {},
     "output_type": "execute_result"
    }
   ],
   "source": [
    "# replicate the birthday rule backtest\n",
    "import lc_investing.birthday_rule\n",
    "lc_investing.birthday_rule = reload(lc_investing.birthday_rule)\n",
    "\n",
    "s1 = lc_investing.birthday_rule.Simulation(data_folder='../lc_investing/data/')\n",
    "s1.retirement_savings_before_period.head(2)\n",
    "s1.retirement_savings_before_period.Final.describe()"
   ]
  },
  {
   "cell_type": "code",
   "execution_count": 24,
   "metadata": {},
   "outputs": [
    {
     "data": {
      "text/plain": [
       "count    9.600000e+01\n",
       "mean     7.488387e+05\n",
       "std      2.498310e+05\n",
       "min      3.087257e+05\n",
       "25%      5.610321e+05\n",
       "50%      6.914265e+05\n",
       "75%      9.220282e+05\n",
       "max      1.252684e+06\n",
       "Name: Final, dtype: float64"
      ]
     },
     "execution_count": 24,
     "metadata": {},
     "output_type": "execute_result"
    }
   ],
   "source": [
    "# replicate the constant percent stock backtest\n",
    "import lc_investing.constant_percent_stock\n",
    "lc_investing.constant_percent_stock = reload(lc_investing.constant_percent_stock)\n",
    "\n",
    "s2 = lc_investing.constant_percent_stock.Simulation(data_folder='../lc_investing/data/')\n",
    "s2.retirement_savings_before_period.Final.describe()"
   ]
  },
  {
   "cell_type": "code",
   "execution_count": 25,
   "metadata": {
    "colab": {
     "base_uri": "https://localhost:8080/"
    },
    "executionInfo": {
     "elapsed": 37175,
     "status": "ok",
     "timestamp": 1666547113290,
     "user": {
      "displayName": "Robert Hatem",
      "userId": "10465428883948047643"
     },
     "user_tz": 240
    },
    "id": "Js3TEUfYUzX8",
    "outputId": "b5897e83-ac73-40a0-e195-4ff9fd00b821"
   },
   "outputs": [
    {
     "data": {
      "text/plain": [
       "count    9.600000e+01\n",
       "mean     1.223105e+06\n",
       "std      4.533787e+05\n",
       "min      3.871724e+05\n",
       "25%      8.841381e+05\n",
       "50%      1.146812e+06\n",
       "75%      1.522653e+06\n",
       "max      2.177424e+06\n",
       "Name: FINAL, dtype: float64"
      ]
     },
     "execution_count": 25,
     "metadata": {},
     "output_type": "execute_result"
    }
   ],
   "source": [
    "# replicate the lifecycle strategy backtest\n",
    "import lc_investing.lifecycle_strategy\n",
    "lc_investing.lifecycle_strategy = reload(lc_investing.lifecycle_strategy)\n",
    "\n",
    "s3 = lc_investing.lifecycle_strategy.Simulation(data_folder='../lc_investing/data/')\n",
    "s3.calc_retirement_savings_before_period()\n",
    "s3.retirement_savings_before_period.FINAL.describe()"
   ]
  },
  {
   "cell_type": "code",
   "execution_count": 26,
   "metadata": {},
   "outputs": [],
   "source": [
    "import lc_investing.constant_percent_stock\n",
    "lc_investing.constant_percent_stock = reload(lc_investing.constant_percent_stock)\n",
    "\n",
    "s2 = lc_investing.constant_percent_stock.Simulation(data_folder='..\\\\lc_investing\\\\data\\\\',\n",
    "                                                    #bondadj=0,\n",
    "                                                    #margadj=0,\n",
    "                                                    #stockadj=0,\n",
    "                                                    #lambdacons=1, # stock allocation\n",
    "                                                    #start_age=23,\n",
    "                                                    #start_amt=1,\n",
    "                                                    #max_rate = np.Inf,\n",
    "                                                    #borrowing_rate_override=None\n",
    "                                                   )\n",
    "df1 = s2.retirement_savings_before_period.Final.describe()  #describe([i/10 for i in range(0,10)]).to_frame().reset_index()"
   ]
  },
  {
   "cell_type": "code",
   "execution_count": 20,
   "metadata": {},
   "outputs": [
    {
     "data": {
      "text/plain": [
       "count    9.600000e+01\n",
       "mean     7.488387e+05\n",
       "std      2.498310e+05\n",
       "min      3.087257e+05\n",
       "25%      5.610321e+05\n",
       "50%      6.914265e+05\n",
       "75%      9.220282e+05\n",
       "max      1.252684e+06\n",
       "Name: Final, dtype: float64"
      ]
     },
     "execution_count": 20,
     "metadata": {},
     "output_type": "execute_result"
    }
   ],
   "source": [
    "df1"
   ]
  },
  {
   "cell_type": "code",
   "execution_count": 21,
   "metadata": {},
   "outputs": [
    {
     "data": {
      "text/html": [
       "<div>\n",
       "<style scoped>\n",
       "    .dataframe tbody tr th:only-of-type {\n",
       "        vertical-align: middle;\n",
       "    }\n",
       "\n",
       "    .dataframe tbody tr th {\n",
       "        vertical-align: top;\n",
       "    }\n",
       "\n",
       "    .dataframe thead th {\n",
       "        text-align: right;\n",
       "    }\n",
       "</style>\n",
       "<table border=\"1\" class=\"dataframe\">\n",
       "  <thead>\n",
       "    <tr style=\"text-align: right;\">\n",
       "      <th>period_num</th>\n",
       "      <th>cohort_num</th>\n",
       "      <th>begins_work</th>\n",
       "      <th>retire</th>\n",
       "      <th>1</th>\n",
       "      <th>2</th>\n",
       "      <th>3</th>\n",
       "      <th>4</th>\n",
       "      <th>5</th>\n",
       "      <th>6</th>\n",
       "      <th>7</th>\n",
       "      <th>...</th>\n",
       "      <th>520</th>\n",
       "      <th>521</th>\n",
       "      <th>522</th>\n",
       "      <th>523</th>\n",
       "      <th>524</th>\n",
       "      <th>525</th>\n",
       "      <th>526</th>\n",
       "      <th>527</th>\n",
       "      <th>528</th>\n",
       "      <th>Final</th>\n",
       "    </tr>\n",
       "  </thead>\n",
       "  <tbody>\n",
       "    <tr>\n",
       "      <th>0</th>\n",
       "      <td>1</td>\n",
       "      <td>1871</td>\n",
       "      <td>1914</td>\n",
       "      <td>157.453664</td>\n",
       "      <td>310.715737</td>\n",
       "      <td>472.564225</td>\n",
       "      <td>671.488074</td>\n",
       "      <td>868.443407</td>\n",
       "      <td>1040.645778</td>\n",
       "      <td>1184.462977</td>\n",
       "      <td>...</td>\n",
       "      <td>701555.479900</td>\n",
       "      <td>699993.771028</td>\n",
       "      <td>701102.368392</td>\n",
       "      <td>668513.073727</td>\n",
       "      <td>658596.696689</td>\n",
       "      <td>661679.166826</td>\n",
       "      <td>671330.269615</td>\n",
       "      <td>667801.421737</td>\n",
       "      <td>655667.284896</td>\n",
       "      <td>667170.852995</td>\n",
       "    </tr>\n",
       "    <tr>\n",
       "      <th>1</th>\n",
       "      <td>2</td>\n",
       "      <td>1872</td>\n",
       "      <td>1915</td>\n",
       "      <td>157.453664</td>\n",
       "      <td>316.850485</td>\n",
       "      <td>481.374535</td>\n",
       "      <td>641.926506</td>\n",
       "      <td>803.451574</td>\n",
       "      <td>965.978738</td>\n",
       "      <td>1140.851732</td>\n",
       "      <td>...</td>\n",
       "      <td>672281.667170</td>\n",
       "      <td>656843.967498</td>\n",
       "      <td>665132.952378</td>\n",
       "      <td>666216.463360</td>\n",
       "      <td>690483.585412</td>\n",
       "      <td>712776.286420</td>\n",
       "      <td>738179.727984</td>\n",
       "      <td>752987.490997</td>\n",
       "      <td>757698.475599</td>\n",
       "      <td>743973.351851</td>\n",
       "    </tr>\n",
       "    <tr>\n",
       "      <th>2</th>\n",
       "      <td>3</td>\n",
       "      <td>1873</td>\n",
       "      <td>1916</td>\n",
       "      <td>157.453664</td>\n",
       "      <td>311.344008</td>\n",
       "      <td>468.545897</td>\n",
       "      <td>623.522816</td>\n",
       "      <td>803.311689</td>\n",
       "      <td>983.886260</td>\n",
       "      <td>1145.423233</td>\n",
       "      <td>...</td>\n",
       "      <td>667811.550523</td>\n",
       "      <td>675605.508847</td>\n",
       "      <td>676818.743873</td>\n",
       "      <td>672527.351810</td>\n",
       "      <td>673375.787184</td>\n",
       "      <td>684746.916072</td>\n",
       "      <td>691616.713170</td>\n",
       "      <td>693950.918117</td>\n",
       "      <td>670633.019095</td>\n",
       "      <td>655843.343946</td>\n",
       "    </tr>\n",
       "    <tr>\n",
       "      <th>3</th>\n",
       "      <td>4</td>\n",
       "      <td>1874</td>\n",
       "      <td>1917</td>\n",
       "      <td>157.453664</td>\n",
       "      <td>323.991447</td>\n",
       "      <td>479.385959</td>\n",
       "      <td>637.812304</td>\n",
       "      <td>789.648542</td>\n",
       "      <td>971.374661</td>\n",
       "      <td>1125.007229</td>\n",
       "      <td>...</td>\n",
       "      <td>551262.443182</td>\n",
       "      <td>531030.851372</td>\n",
       "      <td>533498.939958</td>\n",
       "      <td>533747.788787</td>\n",
       "      <td>516940.969400</td>\n",
       "      <td>490569.038166</td>\n",
       "      <td>466600.098878</td>\n",
       "      <td>440655.523994</td>\n",
       "      <td>425997.548051</td>\n",
       "      <td>438772.085928</td>\n",
       "    </tr>\n",
       "    <tr>\n",
       "      <th>4</th>\n",
       "      <td>5</td>\n",
       "      <td>1875</td>\n",
       "      <td>1918</td>\n",
       "      <td>157.453664</td>\n",
       "      <td>316.265624</td>\n",
       "      <td>480.954975</td>\n",
       "      <td>643.463698</td>\n",
       "      <td>801.805541</td>\n",
       "      <td>967.726565</td>\n",
       "      <td>1132.167843</td>\n",
       "      <td>...</td>\n",
       "      <td>408257.630612</td>\n",
       "      <td>412298.112097</td>\n",
       "      <td>410251.184018</td>\n",
       "      <td>404581.479232</td>\n",
       "      <td>402194.725488</td>\n",
       "      <td>395494.141920</td>\n",
       "      <td>402896.803885</td>\n",
       "      <td>405688.672925</td>\n",
       "      <td>397243.646302</td>\n",
       "      <td>390564.330259</td>\n",
       "    </tr>\n",
       "  </tbody>\n",
       "</table>\n",
       "<p>5 rows × 532 columns</p>\n",
       "</div>"
      ],
      "text/plain": [
       "period_num  cohort_num  begins_work  retire           1           2  \\\n",
       "0                    1         1871    1914  157.453664  310.715737   \n",
       "1                    2         1872    1915  157.453664  316.850485   \n",
       "2                    3         1873    1916  157.453664  311.344008   \n",
       "3                    4         1874    1917  157.453664  323.991447   \n",
       "4                    5         1875    1918  157.453664  316.265624   \n",
       "\n",
       "period_num           3           4           5            6            7  ...  \\\n",
       "0           472.564225  671.488074  868.443407  1040.645778  1184.462977  ...   \n",
       "1           481.374535  641.926506  803.451574   965.978738  1140.851732  ...   \n",
       "2           468.545897  623.522816  803.311689   983.886260  1145.423233  ...   \n",
       "3           479.385959  637.812304  789.648542   971.374661  1125.007229  ...   \n",
       "4           480.954975  643.463698  801.805541   967.726565  1132.167843  ...   \n",
       "\n",
       "period_num            520            521            522            523  \\\n",
       "0           701555.479900  699993.771028  701102.368392  668513.073727   \n",
       "1           672281.667170  656843.967498  665132.952378  666216.463360   \n",
       "2           667811.550523  675605.508847  676818.743873  672527.351810   \n",
       "3           551262.443182  531030.851372  533498.939958  533747.788787   \n",
       "4           408257.630612  412298.112097  410251.184018  404581.479232   \n",
       "\n",
       "period_num            524            525            526            527  \\\n",
       "0           658596.696689  661679.166826  671330.269615  667801.421737   \n",
       "1           690483.585412  712776.286420  738179.727984  752987.490997   \n",
       "2           673375.787184  684746.916072  691616.713170  693950.918117   \n",
       "3           516940.969400  490569.038166  466600.098878  440655.523994   \n",
       "4           402194.725488  395494.141920  402896.803885  405688.672925   \n",
       "\n",
       "period_num            528          Final  \n",
       "0           655667.284896  667170.852995  \n",
       "1           757698.475599  743973.351851  \n",
       "2           670633.019095  655843.343946  \n",
       "3           425997.548051  438772.085928  \n",
       "4           397243.646302  390564.330259  \n",
       "\n",
       "[5 rows x 532 columns]"
      ]
     },
     "execution_count": 21,
     "metadata": {},
     "output_type": "execute_result"
    }
   ],
   "source": [
    "s2.retirement_savings_before_period.head()"
   ]
  },
  {
   "cell_type": "code",
   "execution_count": null,
   "metadata": {},
   "outputs": [],
   "source": []
  },
  {
   "cell_type": "code",
   "execution_count": null,
   "metadata": {},
   "outputs": [],
   "source": []
  },
  {
   "cell_type": "code",
   "execution_count": null,
   "metadata": {},
   "outputs": [],
   "source": []
  },
  {
   "cell_type": "code",
   "execution_count": null,
   "metadata": {},
   "outputs": [],
   "source": []
  },
  {
   "cell_type": "code",
   "execution_count": 5,
   "metadata": {
    "colab": {
     "base_uri": "https://localhost:8080/",
     "height": 371
    },
    "executionInfo": {
     "elapsed": 660,
     "status": "ok",
     "timestamp": 1666539549378,
     "user": {
      "displayName": "Robert Hatem",
      "userId": "10465428883948047643"
     },
     "user_tz": 240
    },
    "id": "XoSnYXy1XMHG",
    "outputId": "5591b3a7-1a2f-4560-ff37-288d314f38c5"
   },
   "outputs": [
    {
     "data": {
      "text/html": [
       "<div>\n",
       "<style scoped>\n",
       "    .dataframe tbody tr th:only-of-type {\n",
       "        vertical-align: middle;\n",
       "    }\n",
       "\n",
       "    .dataframe tbody tr th {\n",
       "        vertical-align: top;\n",
       "    }\n",
       "\n",
       "    .dataframe thead th {\n",
       "        text-align: right;\n",
       "    }\n",
       "</style>\n",
       "<table border=\"1\" class=\"dataframe\">\n",
       "  <thead>\n",
       "    <tr style=\"text-align: right;\">\n",
       "      <th></th>\n",
       "      <th>cohort_num</th>\n",
       "      <th>FINAL</th>\n",
       "      <th>emile</th>\n",
       "    </tr>\n",
       "  </thead>\n",
       "  <tbody>\n",
       "    <tr>\n",
       "      <th>13</th>\n",
       "      <td>14</td>\n",
       "      <td>1006486.347</td>\n",
       "      <td>1.006486e+06</td>\n",
       "    </tr>\n",
       "    <tr>\n",
       "      <th>14</th>\n",
       "      <td>15</td>\n",
       "      <td>1362866.777</td>\n",
       "      <td>1.362867e+06</td>\n",
       "    </tr>\n",
       "  </tbody>\n",
       "</table>\n",
       "</div>"
      ],
      "text/plain": [
       "    cohort_num        FINAL         emile\n",
       "13          14  1006486.347  1.006486e+06\n",
       "14          15  1362866.777  1.362867e+06"
      ]
     },
     "execution_count": 5,
     "metadata": {},
     "output_type": "execute_result"
    },
    {
     "data": {
      "image/png": "[encoded data removed]",
      "text/plain": [
       "<Figure size 432x288 with 1 Axes>"
      ]
     },
     "metadata": {
      "needs_background": "light"
     },
     "output_type": "display_data"
    }
   ],
   "source": [
    "# lifecycle_retirement_savings_before_period, FINAL\n",
    "\n",
    "df1 = pd.read_csv('../lc_investing/data/lifecycle_retirement_savings_before_period.csv')\n",
    "\n",
    "df2 = df1.loc[:, ['cohort_num','FINAL']]\n",
    "df2.loc[:, 'emile'] = s3.retirement_savings_before_period.FINAL\n",
    "\n",
    "# df2 = df2.iloc[12:58, :]\n",
    "\n",
    "plt.plot(df2.cohort_num, df2.FINAL)\n",
    "plt.plot(df2.cohort_num, df2.emile)\n",
    "\n",
    "df2.iloc[13:15]"
   ]
  },
  {
   "cell_type": "code",
   "execution_count": 9,
   "metadata": {
    "colab": {
     "base_uri": "https://localhost:8080/",
     "height": 465
    },
    "executionInfo": {
     "elapsed": 3825,
     "status": "ok",
     "timestamp": 1666539578610,
     "user": {
      "displayName": "Robert Hatem",
      "userId": "10465428883948047643"
     },
     "user_tz": 240
    },
    "id": "xh7l1vilyqzM",
    "outputId": "c2607e23-9ff2-4d77-c19f-fedf859e3dc1"
   },
   "outputs": [
    {
     "data": {
      "image/png": "[encoded data removed]",
      "text/plain": [
       "<Figure size 432x288 with 1 Axes>"
      ]
     },
     "metadata": {
      "needs_background": "light"
     },
     "output_type": "display_data"
    },
    {
     "data": {
      "text/html": [
       "<div>\n",
       "<style scoped>\n",
       "    .dataframe tbody tr th:only-of-type {\n",
       "        vertical-align: middle;\n",
       "    }\n",
       "\n",
       "    .dataframe tbody tr th {\n",
       "        vertical-align: top;\n",
       "    }\n",
       "\n",
       "    .dataframe thead th {\n",
       "        text-align: right;\n",
       "    }\n",
       "</style>\n",
       "<table border=\"1\" class=\"dataframe\">\n",
       "  <thead>\n",
       "    <tr style=\"text-align: right;\">\n",
       "      <th></th>\n",
       "      <th>cohort_num</th>\n",
       "      <th>begins_work</th>\n",
       "      <th>retire</th>\n",
       "      <th>period_num</th>\n",
       "      <th>actual</th>\n",
       "      <th>emile</th>\n",
       "    </tr>\n",
       "  </thead>\n",
       "  <tbody>\n",
       "    <tr>\n",
       "      <th>0</th>\n",
       "      <td>15</td>\n",
       "      <td>1885</td>\n",
       "      <td>1928</td>\n",
       "      <td>0</td>\n",
       "      <td>0.000000</td>\n",
       "      <td>0.000000</td>\n",
       "    </tr>\n",
       "    <tr>\n",
       "      <th>1</th>\n",
       "      <td>15</td>\n",
       "      <td>1885</td>\n",
       "      <td>1928</td>\n",
       "      <td>1</td>\n",
       "      <td>157.453664</td>\n",
       "      <td>157.453664</td>\n",
       "    </tr>\n",
       "    <tr>\n",
       "      <th>2</th>\n",
       "      <td>15</td>\n",
       "      <td>1885</td>\n",
       "      <td>1928</td>\n",
       "      <td>2</td>\n",
       "      <td>333.819247</td>\n",
       "      <td>333.819247</td>\n",
       "    </tr>\n",
       "    <tr>\n",
       "      <th>3</th>\n",
       "      <td>15</td>\n",
       "      <td>1885</td>\n",
       "      <td>1928</td>\n",
       "      <td>3</td>\n",
       "      <td>510.095955</td>\n",
       "      <td>510.095954</td>\n",
       "    </tr>\n",
       "    <tr>\n",
       "      <th>4</th>\n",
       "      <td>15</td>\n",
       "      <td>1885</td>\n",
       "      <td>1928</td>\n",
       "      <td>4</td>\n",
       "      <td>663.659038</td>\n",
       "      <td>663.659037</td>\n",
       "    </tr>\n",
       "  </tbody>\n",
       "</table>\n",
       "</div>"
      ],
      "text/plain": [
       "   cohort_num  begins_work  retire period_num      actual       emile\n",
       "0          15         1885    1928          0    0.000000    0.000000\n",
       "1          15         1885    1928          1  157.453664  157.453664\n",
       "2          15         1885    1928          2  333.819247  333.819247\n",
       "3          15         1885    1928          3  510.095955  510.095954\n",
       "4          15         1885    1928          4  663.659038  663.659037"
      ]
     },
     "execution_count": 9,
     "metadata": {},
     "output_type": "execute_result"
    }
   ],
   "source": [
    "import matplotlib.pyplot as plt\n",
    "\n",
    "# lifecycle_retirement_savings_before_period\n",
    "df1 = pd.read_csv('../lc_investing/data/lifecycle_retirement_savings_before_period.csv')\n",
    "\n",
    "cohort_num=15\n",
    "\n",
    "df2 = pd.melt(df1.loc[df1.cohort_num==cohort_num], \n",
    "              id_vars=['cohort_num', 'begins_work', 'retire'],\n",
    "              var_name='period_num',\n",
    "              value_name='actual')\n",
    "\n",
    "df2.loc[:, 'emile'] = s3.retirement_savings_before_period.loc[s3.retirement_savings_before_period.cohort_num==cohort_num, 0:].values.flatten()\n",
    "\n",
    "# df2 = df2.iloc[516:519,:]\n",
    "\n",
    "# Plot a simple line chart\n",
    "plt.plot(df2.period_num, df2.actual)\n",
    "\n",
    "# Plot another line on the same chart/graph\n",
    "plt.plot(df2.period_num, df2.emile)\n",
    "\n",
    "plt.show()\n",
    "df2.head()"
   ]
  },
  {
   "cell_type": "code",
   "execution_count": 10,
   "metadata": {
    "colab": {
     "base_uri": "https://localhost:8080/",
     "height": 454
    },
    "executionInfo": {
     "elapsed": 4449,
     "status": "ok",
     "timestamp": 1666539594976,
     "user": {
      "displayName": "Robert Hatem",
      "userId": "10465428883948047643"
     },
     "user_tz": 240
    },
    "id": "e3rm-IlT0AUJ",
    "outputId": "b6293f53-f6a0-42b8-8120-ad9dce5daabb"
   },
   "outputs": [
    {
     "data": {
      "image/png": "[encoded data removed]",
      "text/plain": [
       "<Figure size 432x288 with 1 Axes>"
      ]
     },
     "metadata": {
      "needs_background": "light"
     },
     "output_type": "display_data"
    },
    {
     "data": {
      "text/html": [
       "<div>\n",
       "<style scoped>\n",
       "    .dataframe tbody tr th:only-of-type {\n",
       "        vertical-align: middle;\n",
       "    }\n",
       "\n",
       "    .dataframe tbody tr th {\n",
       "        vertical-align: top;\n",
       "    }\n",
       "\n",
       "    .dataframe thead th {\n",
       "        text-align: right;\n",
       "    }\n",
       "</style>\n",
       "<table border=\"1\" class=\"dataframe\">\n",
       "  <thead>\n",
       "    <tr style=\"text-align: right;\">\n",
       "      <th></th>\n",
       "      <th>cohort_num</th>\n",
       "      <th>begins_work</th>\n",
       "      <th>retire</th>\n",
       "      <th>period_num</th>\n",
       "      <th>actual</th>\n",
       "      <th>emile</th>\n",
       "    </tr>\n",
       "  </thead>\n",
       "  <tbody>\n",
       "    <tr>\n",
       "      <th>1</th>\n",
       "      <td>15</td>\n",
       "      <td>1885</td>\n",
       "      <td>1928</td>\n",
       "      <td>1</td>\n",
       "      <td>2.0</td>\n",
       "      <td>2.0</td>\n",
       "    </tr>\n",
       "    <tr>\n",
       "      <th>2</th>\n",
       "      <td>15</td>\n",
       "      <td>1885</td>\n",
       "      <td>1928</td>\n",
       "      <td>2</td>\n",
       "      <td>2.0</td>\n",
       "      <td>2.0</td>\n",
       "    </tr>\n",
       "    <tr>\n",
       "      <th>3</th>\n",
       "      <td>15</td>\n",
       "      <td>1885</td>\n",
       "      <td>1928</td>\n",
       "      <td>3</td>\n",
       "      <td>2.0</td>\n",
       "      <td>2.0</td>\n",
       "    </tr>\n",
       "    <tr>\n",
       "      <th>4</th>\n",
       "      <td>15</td>\n",
       "      <td>1885</td>\n",
       "      <td>1928</td>\n",
       "      <td>4</td>\n",
       "      <td>2.0</td>\n",
       "      <td>2.0</td>\n",
       "    </tr>\n",
       "    <tr>\n",
       "      <th>5</th>\n",
       "      <td>15</td>\n",
       "      <td>1885</td>\n",
       "      <td>1928</td>\n",
       "      <td>5</td>\n",
       "      <td>2.0</td>\n",
       "      <td>2.0</td>\n",
       "    </tr>\n",
       "  </tbody>\n",
       "</table>\n",
       "</div>"
      ],
      "text/plain": [
       "   cohort_num  begins_work  retire period_num  actual  emile\n",
       "1          15         1885    1928          1     2.0    2.0\n",
       "2          15         1885    1928          2     2.0    2.0\n",
       "3          15         1885    1928          3     2.0    2.0\n",
       "4          15         1885    1928          4     2.0    2.0\n",
       "5          15         1885    1928          5     2.0    2.0"
      ]
     },
     "execution_count": 10,
     "metadata": {},
     "output_type": "execute_result"
    }
   ],
   "source": [
    "import matplotlib.pyplot as plt\n",
    "\n",
    "# percentage_target\n",
    "df3 = pd.read_csv('../lc_investing/data/percentage_target.csv')\n",
    "\n",
    "cohort_num=15\n",
    "\n",
    "df4 = pd.melt(df3.loc[df1.cohort_num==cohort_num], \n",
    "              id_vars=['cohort_num', 'begins_work', 'retire'],\n",
    "              var_name='period_num',\n",
    "              value_name='actual')\n",
    "\n",
    "df4.loc[:, 'emile'] = s3.percentage_target.loc[s3.percentage_target.cohort_num==cohort_num, 0:].values.flatten()\n",
    "\n",
    "df4 = df4.iloc[1:, :]\n",
    "\n",
    "# Plot a simple line chart\n",
    "plt.plot(df4.period_num, df4.actual)\n",
    "\n",
    "# Plot another line on the same chart/graph\n",
    "plt.plot(df4.period_num, df4.emile)\n",
    "\n",
    "plt.show()\n",
    "df4.head()"
   ]
  },
  {
   "cell_type": "code",
   "execution_count": 11,
   "metadata": {
    "colab": {
     "base_uri": "https://localhost:8080/",
     "height": 454
    },
    "executionInfo": {
     "elapsed": 4061,
     "status": "ok",
     "timestamp": 1666539627153,
     "user": {
      "displayName": "Robert Hatem",
      "userId": "10465428883948047643"
     },
     "user_tz": 240
    },
    "id": "rQl4szAR-FmE",
    "outputId": "35be0a63-38d7-4aaa-de80-0a2d63c61f7d"
   },
   "outputs": [
    {
     "data": {
      "image/png": "[encoded data removed]",
      "text/plain": [
       "<Figure size 432x288 with 1 Axes>"
      ]
     },
     "metadata": {
      "needs_background": "light"
     },
     "output_type": "display_data"
    },
    {
     "data": {
      "text/html": [
       "<div>\n",
       "<style scoped>\n",
       "    .dataframe tbody tr th:only-of-type {\n",
       "        vertical-align: middle;\n",
       "    }\n",
       "\n",
       "    .dataframe tbody tr th {\n",
       "        vertical-align: top;\n",
       "    }\n",
       "\n",
       "    .dataframe thead th {\n",
       "        text-align: right;\n",
       "    }\n",
       "</style>\n",
       "<table border=\"1\" class=\"dataframe\">\n",
       "  <thead>\n",
       "    <tr style=\"text-align: right;\">\n",
       "      <th></th>\n",
       "      <th>cohort_num</th>\n",
       "      <th>begins_work</th>\n",
       "      <th>retire</th>\n",
       "      <th>period_num</th>\n",
       "      <th>actual</th>\n",
       "      <th>emile</th>\n",
       "    </tr>\n",
       "  </thead>\n",
       "  <tbody>\n",
       "    <tr>\n",
       "      <th>0</th>\n",
       "      <td>15</td>\n",
       "      <td>1885</td>\n",
       "      <td>1928</td>\n",
       "      <td>0</td>\n",
       "      <td>0.000000</td>\n",
       "      <td>0.000000</td>\n",
       "    </tr>\n",
       "    <tr>\n",
       "      <th>1</th>\n",
       "      <td>15</td>\n",
       "      <td>1885</td>\n",
       "      <td>1928</td>\n",
       "      <td>1</td>\n",
       "      <td>0.060056</td>\n",
       "      <td>0.060056</td>\n",
       "    </tr>\n",
       "    <tr>\n",
       "      <th>2</th>\n",
       "      <td>15</td>\n",
       "      <td>1885</td>\n",
       "      <td>1928</td>\n",
       "      <td>2</td>\n",
       "      <td>0.038315</td>\n",
       "      <td>0.038315</td>\n",
       "    </tr>\n",
       "    <tr>\n",
       "      <th>3</th>\n",
       "      <td>15</td>\n",
       "      <td>1885</td>\n",
       "      <td>1928</td>\n",
       "      <td>3</td>\n",
       "      <td>-0.005828</td>\n",
       "      <td>-0.005828</td>\n",
       "    </tr>\n",
       "    <tr>\n",
       "      <th>4</th>\n",
       "      <td>15</td>\n",
       "      <td>1885</td>\n",
       "      <td>1928</td>\n",
       "      <td>4</td>\n",
       "      <td>0.010240</td>\n",
       "      <td>0.010240</td>\n",
       "    </tr>\n",
       "  </tbody>\n",
       "</table>\n",
       "</div>"
      ],
      "text/plain": [
       "   cohort_num  begins_work  retire period_num    actual     emile\n",
       "0          15         1885    1928          0  0.000000  0.000000\n",
       "1          15         1885    1928          1  0.060056  0.060056\n",
       "2          15         1885    1928          2  0.038315  0.038315\n",
       "3          15         1885    1928          3 -0.005828 -0.005828\n",
       "4          15         1885    1928          4  0.010240  0.010240"
      ]
     },
     "execution_count": 11,
     "metadata": {},
     "output_type": "execute_result"
    }
   ],
   "source": [
    "import matplotlib.pyplot as plt\n",
    "\n",
    "# real_returns\n",
    "df3 = pd.read_csv('../lc_investing/data/real_returns.csv')\n",
    "\n",
    "cohort_num=15\n",
    "\n",
    "df4 = pd.melt(df3.loc[df3.cohort_num==cohort_num], \n",
    "              id_vars=['cohort_num', 'begins_work', 'retire'],\n",
    "              var_name='period_num',\n",
    "              value_name='actual')\n",
    "\n",
    "df4.loc[:, 'emile'] = s3.real_returns.loc[s3.real_returns.cohort_num==cohort_num, 0:].values.flatten()\n",
    "\n",
    "# df4 = df4.iloc[515:518,:]\n",
    "\n",
    "# Plot a simple line chart\n",
    "plt.plot(df4.period_num, df4.actual)\n",
    "\n",
    "# Plot another line on the same chart/graph\n",
    "plt.plot(df4.period_num, df4.emile)\n",
    "\n",
    "plt.show()\n",
    "df4.head()"
   ]
  }
 ],
 "metadata": {
  "colab": {
   "authorship_tag": "ABX9TyM6NUJSodve9FozCE5raX6y",
   "collapsed_sections": [],
   "mount_file_id": "1O6W4dG3de2mpFOk-I46BXsYfYmSiQFE8",
   "provenance": []
  },
  "kernelspec": {
   "display_name": "Python 3 (ipykernel)",
   "language": "python",
   "name": "python3"
  },
  "language_info": {
   "codemirror_mode": {
    "name": "ipython",
    "version": 3
   },
   "file_extension": ".py",
   "mimetype": "text/x-python",
   "name": "python",
   "nbconvert_exporter": "python",
   "pygments_lexer": "ipython3",
   "version": "3.10.0"
  }
 },
 "nbformat": 4,
 "nbformat_minor": 1
}
