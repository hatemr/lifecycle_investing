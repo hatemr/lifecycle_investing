{
 "cells": [
  {
   "cell_type": "code",
   "execution_count": 4,
   "metadata": {
    "id": "DW4p6c6QIc3N"
   },
   "outputs": [],
   "source": [
    "import datetime\n",
    "import numpy as np\n",
    "import pandas as pd\n",
    "import os\n",
    "import sys\n",
    "from importlib import reload\n",
    "import matplotlib.pyplot as plt\n",
    "import seaborn as sns\n",
    "sys.path.append(\"..\")"
   ]
  },
  {
   "cell_type": "markdown",
   "metadata": {},
   "source": [
    "This notebook runs many simulations, changing the stock allocation (leverage), interest rate cutoff for leveraging, and the interest rate adder (to assume interest rates are higher in the futures)."
   ]
  },
  {
   "cell_type": "code",
   "execution_count": 6,
   "metadata": {
    "colab": {
     "background_save": true
    },
    "id": "mt1lsoXdRund",
    "outputId": "863b2137-014c-4374-b4f5-3d141e7b7d71"
   },
   "outputs": [
    {
     "data": {
      "text/plain": [
       "(3000, 8)"
      ]
     },
     "execution_count": 6,
     "metadata": {},
     "output_type": "execute_result"
    }
   ],
   "source": [
    "import lc_investing.constant_percent_stock\n",
    "lc_investing.constant_percent_stock = reload(lc_investing.constant_percent_stock)\n",
    "\n",
    "# Grid search\n",
    "\n",
    "summary_list = []\n",
    "for labmdacons in [1.00, 1.25, 1.5, 1.75, 2.00]:\n",
    "  for rate in [1.00, 1.02, 1.04, 1.06, 1.08, 1.1, 1.12, 3.00]:\n",
    "    r = round(rate, 2)\n",
    "    for marg_adj in [0.0, 0.02, 0.04, 0.06, 0.08]:\n",
    "      for borr_rate in [None]: #[1.02, 1.04, 1.06, 1.08]:\n",
    "        s2 = lc_investing.constant_percent_stock.Simulation(#data_folder='/content/drive/Othercomputers/My MacBook Air/Taxes_and_other_forms/lifecycle_investing/lc_investing/data/',\n",
    "                                                            data_folder='..\\\\lc_investing\\\\data\\\\',\n",
    "                                                            bondadj=0,\n",
    "                                                            margadj=marg_adj,\n",
    "                                                            stockadj=0,\n",
    "                                                            lambdacons=labmdacons, # stock allocation\n",
    "                                                            start_age=30,\n",
    "                                                            start_amt=1,\n",
    "                                                            max_rate = r,\n",
    "                                                            borrowing_rate_override=borr_rate)\n",
    "        df1 = s2.retirement_savings_before_period.Final.describe([i/10 for i in range(0,10)]).to_frame().reset_index()\n",
    "        df1.loc[:, 'max_rate'] = r\n",
    "        df1.loc[:, 'margadj'] = marg_adj\n",
    "        df1.loc[:, 'borr_rate'] = borr_rate\n",
    "        df1.loc[:, 'labmdacons']=labmdacons\n",
    "        df1.loc[:, 'avg_borr_rate'] = s2.monthly_data.Monthly_real_margin_rate.mean()\n",
    "        df1.loc[:, 'avg_stock_ret'] = s2.monthly_data.Monthly_real_stock_rate.mean()\n",
    "        # print(r, '\\n', s2.retirement_savings_before_period.Final.describe())\n",
    "        summary_list.append(df1)\n",
    "\n",
    "df2 = pd.concat(summary_list)\n",
    "df2.shape"
   ]
  },
  {
   "cell_type": "code",
   "execution_count": null,
   "metadata": {
    "id": "Q6ZgkBodEwht"
   },
   "outputs": [],
   "source": [
    "df2.to_csv('/content/drive/Othercomputers/My MacBook Air/Taxes_and_other_forms/lifecycle_investing/grid_search.csv', index=False)"
   ]
  },
  {
   "cell_type": "code",
   "execution_count": 7,
   "metadata": {
    "colab": {
     "base_uri": "https://localhost:8080/",
     "height": 416
    },
    "executionInfo": {
     "elapsed": 1427,
     "status": "ok",
     "timestamp": 1668035518214,
     "user": {
      "displayName": "Robert Hatem",
      "userId": "10465428883948047643"
     },
     "user_tz": 300
    },
    "id": "cjcYXJ0kNN3X",
    "outputId": "59e08ff8-f99e-4c92-c2d8-a521a94737ae"
   },
   "outputs": [
    {
     "name": "stdout",
     "output_type": "stream",
     "text": [
      "  index     Final  max_rate  margadj borr_rate  labmdacons  avg_borr_rate  \\\n",
      "2   std  6.290406       3.0      0.0      None         1.0       0.002196   \n",
      "4    0%  4.069389       3.0      0.0      None         1.0       0.002196   \n",
      "\n",
      "   avg_stock_ret  \n",
      "2       0.006071  \n",
      "4       0.006071  \n"
     ]
    },
    {
     "data": {
      "image/png": "[encoded data removed]",
      "text/plain": [
       "<Figure size 432x288 with 1 Axes>"
      ]
     },
     "metadata": {
      "needs_background": "light"
     },
     "output_type": "display_data"
    }
   ],
   "source": [
    "# Using historical margin rates as the borrowing rate, with \n",
    "# no interest rate cutoff, what is the effect of leveraging?\n",
    "\n",
    "df3=df2.loc[~(df2['index'].isin(['count','mean','max', 'min', '30%', '40%', '60%', '90%'])) & \\\n",
    "        (df2['max_rate']==3) & \\\n",
    "        (df2['margadj']==0.00) & \\\n",
    "        # (df2['borr_rate']==1.04) & \\\n",
    "        (df2['labmdacons'].isin([1,1.5,2]))\n",
    "        ]\n",
    "b = sns.barplot(data=df3, \n",
    "            x=\"index\", \n",
    "            y=\"Final\", \n",
    "            palette = 'hls', \n",
    "            hue=\"labmdacons\").set(title='Portfolio value depending on stock allocation', \n",
    "                                  xlabel='percentile', \n",
    "                                  ylabel='value ($)');\n",
    "# leg = b._legend\n",
    "# leg.set_title(\"hi\")\n",
    "plt.legend(title='Stock allocation')\n",
    "print(df3.head(2))\n",
    "\n",
    "plt.savefig('portfolio_value.png')"
   ]
  },
  {
   "cell_type": "code",
   "execution_count": 8,
   "metadata": {
    "colab": {
     "base_uri": "https://localhost:8080/",
     "height": 295
    },
    "executionInfo": {
     "elapsed": 1108,
     "status": "ok",
     "timestamp": 1668035587739,
     "user": {
      "displayName": "Robert Hatem",
      "userId": "10465428883948047643"
     },
     "user_tz": 300
    },
    "id": "wakbaq8Y_fYs",
    "outputId": "e7a81767-b728-4a82-fc0a-3f80593ef8a1"
   },
   "outputs": [
    {
     "data": {
      "image/png": "[encoded data removed]",
      "text/plain": [
       "<Figure size 432x288 with 1 Axes>"
      ]
     },
     "metadata": {
      "needs_background": "light"
     },
     "output_type": "display_data"
    }
   ],
   "source": [
    "# Impose a rule where you leverage only if the borrowing rate\n",
    "# is below certain values. Will that improve performance?\n",
    "\n",
    "df3=df2.loc[~(df2['index'].isin(['count','mean','max', 'min', '30%', '40%', '60%', '90%'])) & \\\n",
    "        (~df2['max_rate'].isin([1,3])) & \\\n",
    "        (df2['margadj']==0.00) & \\\n",
    "        # (df2['borr_rate']==1.04) & \\\n",
    "        (df2['labmdacons'].isin([2]))\n",
    "        ]\n",
    "b = sns.barplot(data=df3, \n",
    "            x=\"index\", \n",
    "            y=\"Final\", \n",
    "            palette = 'hls', \n",
    "            hue=\"max_rate\").set(title='Portfolio value depending on borrowing rate max.', \n",
    "                                  xlabel='percentile', \n",
    "                                  ylabel='value ($)');\n",
    "# leg = b._legend\n",
    "# leg.set_title(\"hi\")\n",
    "plt.legend(title='borrowing rate max.')\n",
    "\n",
    "plt.savefig('portfolio_value_borrowing_max.png')"
   ]
  },
  {
   "cell_type": "code",
   "execution_count": 9,
   "metadata": {
    "colab": {
     "base_uri": "https://localhost:8080/",
     "height": 416
    },
    "executionInfo": {
     "elapsed": 1313,
     "status": "ok",
     "timestamp": 1667959547476,
     "user": {
      "displayName": "Robert Hatem",
      "userId": "10465428883948047643"
     },
     "user_tz": 300
    },
    "id": "sLP7IAxAcQxa",
    "outputId": "e94a1a33-fb61-470b-8f8c-2c8b59661731"
   },
   "outputs": [
    {
     "name": "stdout",
     "output_type": "stream",
     "text": [
      "  index     Final  max_rate  margadj borr_rate  labmdacons  avg_borr_rate  \\\n",
      "2   std  6.290406       3.0     0.04      None         1.0       0.005336   \n",
      "4    0%  4.069389       3.0     0.04      None         1.0       0.005336   \n",
      "\n",
      "   avg_stock_ret  \n",
      "2       0.006071  \n",
      "4       0.006071  \n"
     ]
    },
    {
     "data": {
      "image/png": "[encoded data removed]",
      "text/plain": [
       "<Figure size 432x288 with 1 Axes>"
      ]
     },
     "metadata": {
      "needs_background": "light"
     },
     "output_type": "display_data"
    }
   ],
   "source": [
    "# Suppose interest rates rise a lot above historical levels - by 4% across the board.\n",
    "# Will leveraging still help?\n",
    "\n",
    "df3=df2.loc[~(df2['index'].isin(['count','mean','max', 'min', '30%', '40%', '60%', '90%'])) & \\\n",
    "        (df2['max_rate']==3) & \\\n",
    "        (df2['margadj']==0.04) & \\\n",
    "        (df2['labmdacons'].isin([1,1.5,2]))\n",
    "        ]\n",
    "b = sns.barplot(data=df3, \n",
    "            x=\"index\", \n",
    "            y=\"Final\", \n",
    "            palette = 'hls', \n",
    "            hue=\"labmdacons\").set(title='Portfolio value depending on stock allocation', \n",
    "                                  xlabel='percentile', \n",
    "                                  ylabel='value ($)');\n",
    "# leg = b._legend\n",
    "# leg.set_title(\"hi\")\n",
    "plt.legend(title='Stock allocation')\n",
    "\n",
    "print(df3.head(2))\n",
    "\n",
    "plt.savefig('portfolio_value_margadj4.png')"
   ]
  },
  {
   "cell_type": "code",
   "execution_count": 10,
   "metadata": {
    "colab": {
     "base_uri": "https://localhost:8080/",
     "height": 312
    },
    "executionInfo": {
     "elapsed": 1139,
     "status": "ok",
     "timestamp": 1667961224430,
     "user": {
      "displayName": "Robert Hatem",
      "userId": "10465428883948047643"
     },
     "user_tz": 300
    },
    "id": "_Ea2e3xzYgO4",
    "outputId": "6091fa02-5291-4df1-95e7-4cf9509b26e7"
   },
   "outputs": [
    {
     "name": "stdout",
     "output_type": "stream",
     "text": [
      "1.0659396214603751\n"
     ]
    },
    {
     "data": {
      "image/png": "[encoded data removed]",
      "text/plain": [
       "<Figure size 432x288 with 1 Axes>"
      ]
     },
     "metadata": {
      "needs_background": "light"
     },
     "output_type": "display_data"
    }
   ],
   "source": [
    "# Suppose interest rates are 4% above their historical levels,\n",
    "# but we leverage only if we can borrow below certain levels.\n",
    "# What interest rate cutoff would give the best performance?\n",
    "\n",
    "df3=df2.loc[~(df2['index'].isin(['count','mean','max', 'min', '30%', '40%', '60%', '90%'])) & \\\n",
    "        (~df2['max_rate'].isin([3])) & \\\n",
    "        (df2['margadj']==0.04) & \\\n",
    "        (df2['labmdacons'].isin([2]))\n",
    "        ]\n",
    "b = sns.barplot(data=df3, \n",
    "            x=\"index\", \n",
    "            y=\"Final\", \n",
    "            palette = 'hls', \n",
    "            hue=\"max_rate\").set(title='Portfolio value depending on borrowing rate max.', \n",
    "                                  xlabel='percentile', \n",
    "                                  ylabel='value ($)');\n",
    "# leg = b._legend\n",
    "# leg.set_title(\"hi\")\n",
    "plt.legend(title='borrowing rate max.')\n",
    "\n",
    "print((df3.head(1).loc[:,'avg_borr_rate'].values[0] + 1)**12)\n",
    "\n",
    "plt.savefig('portfolio_value_borrowing_max_margadj4.png')"
   ]
  },
  {
   "cell_type": "code",
   "execution_count": 11,
   "metadata": {
    "colab": {
     "base_uri": "https://localhost:8080/",
     "height": 295
    },
    "executionInfo": {
     "elapsed": 673,
     "status": "ok",
     "timestamp": 1667954236341,
     "user": {
      "displayName": "Robert Hatem",
      "userId": "10465428883948047643"
     },
     "user_tz": 300
    },
    "id": "IyL8a7dKT0pR",
    "outputId": "afde023a-9266-4fb2-a9bf-ec30cac90b24"
   },
   "outputs": [
    {
     "data": {
      "image/png": "[encoded data removed]",
      "text/plain": [
       "<Figure size 432x288 with 1 Axes>"
      ]
     },
     "metadata": {
      "needs_background": "light"
     },
     "output_type": "display_data"
    }
   ],
   "source": [
    "# Choose to leverage only if the borrowing rate is\n",
    "# is below 6%. Assume we use historical margin \n",
    "# rates. What is the effect of leveraging on \n",
    "# performance?\n",
    "\n",
    "\n",
    "df3=df2.loc[~(df2['index'].isin(['count','mean','max', 'min', '30%', '40%', '60%', '90%'])) & \\\n",
    "        (df2['max_rate']==1.06) & \\\n",
    "        (df2['margadj']==0.00) & \\\n",
    "        (df2['labmdacons'].isin([1,1.5,2]))\n",
    "        ]\n",
    "b = sns.barplot(data=df3, \n",
    "            x=\"index\", \n",
    "            y=\"Final\", \n",
    "            palette = 'hls', \n",
    "            hue=\"labmdacons\").set(title='Portfolio value depending on stock allocation', \n",
    "                                  xlabel='percentile', \n",
    "                                  ylabel='value ($)');\n",
    "# leg = b._legend\n",
    "# leg.set_title(\"hi\")\n",
    "plt.legend(title='Stock allocation')\n",
    "\n",
    "plt.savefig('portfolio_value_max_rate6.png')"
   ]
  },
  {
   "cell_type": "code",
   "execution_count": 12,
   "metadata": {
    "colab": {
     "base_uri": "https://localhost:8080/"
    },
    "executionInfo": {
     "elapsed": 6,
     "status": "ok",
     "timestamp": 1667955221328,
     "user": {
      "displayName": "Robert Hatem",
      "userId": "10465428883948047643"
     },
     "user_tz": 300
    },
    "id": "c6RjJtYKT1Jn",
    "outputId": "ec165dd2-8062-4e5a-80df-f9b315319332"
   },
   "outputs": [
    {
     "data": {
      "text/plain": [
       "1.1290970027453087"
      ]
     },
     "execution_count": 12,
     "metadata": {},
     "output_type": "execute_result"
    }
   ],
   "source": [
    "s2.monthly_data.Annualized_adjusted_margin_rate.mean()"
   ]
  }
 ],
 "metadata": {
  "colab": {
   "authorship_tag": "ABX9TyM6NUJSodve9FozCE5raX6y",
   "collapsed_sections": [],
   "mount_file_id": "1O6W4dG3de2mpFOk-I46BXsYfYmSiQFE8",
   "provenance": []
  },
  "kernelspec": {
   "display_name": "Python 3 (ipykernel)",
   "language": "python",
   "name": "python3"
  },
  "language_info": {
   "codemirror_mode": {
    "name": "ipython",
    "version": 3
   },
   "file_extension": ".py",
   "mimetype": "text/x-python",
   "name": "python",
   "nbconvert_exporter": "python",
   "pygments_lexer": "ipython3",
   "version": "3.10.0"
  }
 },
 "nbformat": 4,
 "nbformat_minor": 1
}
