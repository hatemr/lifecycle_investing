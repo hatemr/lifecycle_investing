{
 "cells": [
  {
   "cell_type": "code",
   "execution_count": 3,
   "metadata": {
    "id": "DW4p6c6QIc3N"
   },
   "outputs": [],
   "source": [
    "from copy import deepcopy\n",
    "import datetime\n",
    "import numpy as np\n",
    "import pandas as pd\n",
    "import os\n",
    "import sys\n",
    "from importlib import reload\n",
    "import matplotlib.pyplot as plt\n",
    "import seaborn as sns\n",
    "sys.path.append('..')"
   ]
  },
  {
   "cell_type": "markdown",
   "metadata": {},
   "source": [
    "This notebook replicates some results of _Lifecycle Investing_'s excel simulations, found on their website."
   ]
  },
  {
   "cell_type": "code",
   "execution_count": null,
   "metadata": {},
   "outputs": [],
   "source": [
    "W0 = 78540  # initial wealth\n",
    "R_rf = 0.0038  # risk-free return\n",
    "R_mm = 0.0038  # money market return\n",
    "M = 0.05  # margin cushion (fraction of )\n",
    "T_Fut = 0.252  # marginal tax on futures\n",
    "T_mm = 0.33  # marginal tax on interest\n",
    "\n",
    "FUT = W0/(1-T_fut)  # target futures position\n",
    "MargCush = FUT*M  # margin cushion\n",
    "IntInv=W0 - MargCush  # invest in interst-bearing asset\n",
    "IntIncome = IntInv*R_mm*(1 - T_mm)  # after tax income from interest"
   ]
  },
  {
   "cell_type": "code",
   "execution_count": 50,
   "metadata": {},
   "outputs": [
    {
     "data": {
      "text/plain": [
       "array([-0.00142419, -0.00142419, -0.00142419, -0.00142419, -0.00142419,\n",
       "       -0.00142419, -0.00142419, -0.00142419, -0.00142419, -0.00142419,\n",
       "       -0.00142419])"
      ]
     },
     "execution_count": 50,
     "metadata": {},
     "output_type": "execute_result"
    }
   ],
   "source": [
    "R_EQ = np.arange(-0.05, 0.06, 0.01)\n",
    "\n",
    "# Roth return ($)\n",
    "RothRet = W0 * R_EQ\n",
    "\n",
    "# Futures mark-to-market return (before taxes)\n",
    "FutRet = FUT * (R_EQ - R_rf)\n",
    "\n",
    "# futures return (after tax)\n",
    "FutRetAfterTax = FutRet * (1-T_Fut)\n",
    "\n",
    "# interest income (after-tax)\n",
    "# IntIncome = IntIncome\n",
    "\n",
    "# total\n",
    "SynthRothInc = FutRetAfterTax + IntIncome\n",
    "\n",
    "# synthetic Roth after-tax return (%)\n",
    "SynthRothRet = SynthRothInc/W0\n",
    "\n",
    "# return difference\n",
    "SynthRothRet - R_EQ"
   ]
  },
  {
   "cell_type": "code",
   "execution_count": 51,
   "metadata": {},
   "outputs": [
    {
     "data": {
      "text/plain": [
       "array([-0.06837914, -0.05501016, -0.04164118, -0.02827219, -0.01490321,\n",
       "       -0.00153422,  0.01183476,  0.02520374,  0.03857273,  0.05194171,\n",
       "        0.0653107 ])"
      ]
     },
     "execution_count": 51,
     "metadata": {},
     "output_type": "execute_result"
    }
   ],
   "source": [
    "SynthRothRet = (FUT*R_EQ + (W0 - FUT*(1+M))*R_rf)/W0\n",
    "SynthRothRet"
   ]
  },
  {
   "cell_type": "code",
   "execution_count": 57,
   "metadata": {},
   "outputs": [
    {
     "data": {
      "image/png": "[encoded data removed]",
      "text/plain": [
       "<Figure size 432x288 with 1 Axes>"
      ]
     },
     "metadata": {
      "needs_background": "light"
     },
     "output_type": "display_data"
    }
   ],
   "source": [
    "x = R_EQ\n",
    "y1 = R_EQ\n",
    "y2 = SynthRothRet\n",
    "\n",
    "plt.plot(x,y1)\n",
    "plt.plot(x,y2)\n",
    "\n",
    "plt.title(\"Returns\")\n",
    "plt.xlabel(\"equity returns\")\n",
    "plt.ylabel(\"returns\")\n",
    "\n",
    "plt.grid()\n",
    "# plt.legend()\n",
    "\n",
    "plt.show() "
   ]
  },
  {
   "cell_type": "code",
   "execution_count": null,
   "metadata": {},
   "outputs": [],
   "source": []
  }
 ],
 "metadata": {
  "colab": {
   "authorship_tag": "ABX9TyM6NUJSodve9FozCE5raX6y",
   "collapsed_sections": [],
   "mount_file_id": "1O6W4dG3de2mpFOk-I46BXsYfYmSiQFE8",
   "provenance": []
  },
  "kernelspec": {
   "display_name": "Python 3 (ipykernel)",
   "language": "python",
   "name": "python3"
  },
  "language_info": {
   "codemirror_mode": {
    "name": "ipython",
    "version": 3
   },
   "file_extension": ".py",
   "mimetype": "text/x-python",
   "name": "python",
   "nbconvert_exporter": "python",
   "pygments_lexer": "ipython3",
   "version": "3.10.0"
  }
 },
 "nbformat": 4,
 "nbformat_minor": 1
}
