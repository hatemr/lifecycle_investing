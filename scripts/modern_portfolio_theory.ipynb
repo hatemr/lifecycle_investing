{
 "cells": [
  {
   "cell_type": "markdown",
   "metadata": {},
   "source": [
    "**This notebook is not to be taken as financial advice. I am not a qualified professional, so this notebook is only meant to be used for educational/entertainment purposes. Investing/trading can lead to losses.**"
   ]
  },
  {
   "cell_type": "code",
   "execution_count": 1,
   "metadata": {
    "id": "vINC2lSLSJPj"
   },
   "outputs": [],
   "source": [
    "import numpy as np\n",
    "import pandas as pd\n",
    "from scipy.optimize import minimize\n",
    "import matplotlib.pyplot as plt\n",
    "from IPython.display import display\n",
    "\n",
    "from typing import List, Tuple\n",
    "from functools import cache  # Python 3.9 required\n",
    "\n",
    "import yfinance as yf"
   ]
  },
  {
   "cell_type": "code",
   "execution_count": 2,
   "metadata": {
    "id": "bKUbNnbxWnyv"
   },
   "outputs": [],
   "source": [
    "from matplotlib import rcParams\n",
    "rcParams['figure.figsize'] = 12, 9"
   ]
  },
  {
   "cell_type": "code",
   "execution_count": 3,
   "metadata": {
    "id": "Nfkw-cyYM2NP"
   },
   "outputs": [],
   "source": [
    "TREASURY_BILL_RATE = 0.11  #%, Jan 2021\n",
    "TRADING_DAYS_PER_YEAR = 250"
   ]
  },
  {
   "cell_type": "code",
   "execution_count": 4,
   "metadata": {
    "id": "j6kXdUQLV5JH"
   },
   "outputs": [],
   "source": [
    "# Needed for type hinting\n",
    "class Asset:\n",
    "  pass\n",
    "\n",
    "\n",
    "def get_log_period_returns(price_history: pd.DataFrame):\n",
    "  close = price_history['Close'].values  \n",
    "  return np.log(close[1:] / close[:-1]).reshape(-1, 1)\n",
    "\n",
    "\n",
    "# daily_price_history has to at least have a column, called 'Close'\n",
    "class Asset:\n",
    "  def __init__(self, name: str, daily_price_history: pd.DataFrame):\n",
    "    self.name = name\n",
    "    self.daily_returns = get_log_period_returns(daily_price_history)\n",
    "    self.expected_daily_return = np.mean(self.daily_returns)\n",
    "  \n",
    "  @property\n",
    "  def expected_return(self):\n",
    "    return TRADING_DAYS_PER_YEAR * self.expected_daily_return\n",
    "\n",
    "  def __repr__(self):\n",
    "    return f'<Asset name={self.name}, expected return={self.expected_return}>'\n",
    "\n",
    "  @staticmethod\n",
    "  @cache\n",
    "  def covariance_matrix(assets: Tuple[Asset]):  # tuple for hashing in the cache\n",
    "    product_expectation = np.zeros((len(assets), len(assets)))\n",
    "    for i in range(len(assets)):\n",
    "      for j in range(len(assets)):\n",
    "        if i == j:\n",
    "          product_expectation[i][j] = np.mean(assets[i].daily_returns * assets[j].daily_returns)\n",
    "        else:\n",
    "          product_expectation[i][j] = np.mean(assets[i].daily_returns @ assets[j].daily_returns.T)\n",
    "    \n",
    "    product_expectation *= (TRADING_DAYS_PER_YEAR - 1) ** 2\n",
    "\n",
    "    expected_returns = np.array([asset.expected_return for asset in assets]).reshape(-1, 1)\n",
    "    product_of_expectations = expected_returns @ expected_returns.T\n",
    "\n",
    "    return product_expectation - product_of_expectations\n",
    "\n",
    "\n",
    "def random_weights(weight_count):\n",
    "    weights = np.random.random((weight_count, 1))\n",
    "    weights /= np.sum(weights)\n",
    "    return weights.reshape(-1, 1)\n",
    "\n",
    "\n",
    "class Portfolio:\n",
    "  def __init__(self, assets: Tuple[Asset]):\n",
    "    self.assets = assets\n",
    "    self.asset_expected_returns = np.array([asset.expected_return for asset in assets]).reshape(-1, 1)\n",
    "    self.covariance_matrix = Asset.covariance_matrix(assets)\n",
    "    self.weights = random_weights(len(assets))\n",
    "    \n",
    "  def unsafe_optimize_with_risk_tolerance(self, risk_tolerance: float):\n",
    "    res = minimize(\n",
    "      lambda w: self._variance(w) - risk_tolerance * self._expected_return(w),\n",
    "      random_weights(self.weights.size),\n",
    "      constraints=[\n",
    "        {'type': 'eq', 'fun': lambda w: np.sum(w) - 1.},\n",
    "      ],\n",
    "      bounds=[(0., 1.) for i in range(self.weights.size)]\n",
    "    )\n",
    "\n",
    "    assert res.success, f'Optimization failed: {res.message}'\n",
    "    self.weights = res.x.reshape(-1, 1)\n",
    "  \n",
    "  def optimize_with_risk_tolerance(self, risk_tolerance: float):\n",
    "    assert risk_tolerance >= 0.\n",
    "    return self.unsafe_optimize_with_risk_tolerance(risk_tolerance)\n",
    "  \n",
    "  def optimize_with_expected_return(self, expected_portfolio_return: float):\n",
    "    res = minimize(\n",
    "      lambda w: self._variance(w),\n",
    "      random_weights(self.weights.size),\n",
    "      constraints=[\n",
    "        {'type': 'eq', 'fun': lambda w: np.sum(w) - 1.},\n",
    "        {'type': 'eq', 'fun': lambda w: self._expected_return(w) - expected_portfolio_return},\n",
    "      ],\n",
    "      bounds=[(0., 1.) for i in range(self.weights.size)]\n",
    "    )\n",
    "\n",
    "    assert res.success, f'Optimization failed: {res.message}'\n",
    "    self.weights = res.x.reshape(-1, 1)\n",
    "\n",
    "  def optimize_sharpe_ratio(self):\n",
    "    # Maximize Sharpe ratio = minimize minus Sharpe ratio\n",
    "    res = minimize(\n",
    "      lambda w: -(self._expected_return(w) - TREASURY_BILL_RATE / 100) / np.sqrt(self._variance(w)),\n",
    "      random_weights(self.weights.size),\n",
    "      constraints=[\n",
    "        {'type': 'eq', 'fun': lambda w: np.sum(w) - 1.},\n",
    "      ],\n",
    "      bounds=[(0., 1.) for i in range(self.weights.size)]\n",
    "    )\n",
    "\n",
    "    assert res.success, f'Optimization failed: {res.message}'\n",
    "    self.weights = res.x.reshape(-1, 1)\n",
    "\n",
    "  def _expected_return(self, w):\n",
    "    return (self.asset_expected_returns.T @ w.reshape(-1, 1))[0][0]\n",
    "  \n",
    "  def _variance(self, w):\n",
    "    return (w.reshape(-1, 1).T @ self.covariance_matrix @ w.reshape(-1, 1))[0][0]\n",
    "\n",
    "  @property\n",
    "  def expected_return(self):\n",
    "    return self._expected_return(self.weights)\n",
    "  \n",
    "  @property\n",
    "  def variance(self):\n",
    "    return self._variance(self.weights)\n",
    "\n",
    "  def __repr__(self):\n",
    "    return f'<Portfolio assets={[asset.name for asset in self.assets]}, expected return={self.expected_return}, variance={self.variance}>'"
   ]
  },
  {
   "cell_type": "code",
   "execution_count": 5,
   "metadata": {
    "id": "5l8UeNUZe_Sk"
   },
   "outputs": [],
   "source": [
    "def yf_retrieve_data(tickers: List[str]):\n",
    "  dataframes = []\n",
    "\n",
    "  for ticker_name in tickers:\n",
    "    ticker = yf.Ticker(ticker_name)\n",
    "    history = ticker.history(period='10y')\n",
    "\n",
    "    if history.isnull().any(axis=1).iloc[0]:  # the first row can have NaNs\n",
    "      history = history.iloc[1:]\n",
    "  \n",
    "    assert not history.isnull().any(axis=None), f'history has NaNs in {ticker_name}'\n",
    "    dataframes.append(history)\n",
    "  \n",
    "  return dataframes"
   ]
  },
  {
   "cell_type": "markdown",
   "metadata": {
    "id": "rMtT2WxdRLuZ"
   },
   "source": [
    "## Usage example"
   ]
  },
  {
   "cell_type": "code",
   "execution_count": 6,
   "metadata": {
    "id": "c1XK-SDRLd64"
   },
   "outputs": [],
   "source": [
    "stocks = ['AAPL', 'AMZN', 'GOOG', 'BRK-B', 'JNJ', 'JPM']\n",
    "\n",
    "daily_dataframes = yf_retrieve_data(stocks)\n",
    "assets = tuple([Asset(name, daily_df) for name, daily_df in zip(stocks, daily_dataframes)])"
   ]
  },
  {
   "cell_type": "code",
   "execution_count": 7,
   "metadata": {
    "colab": {
     "base_uri": "https://localhost:8080/"
    },
    "id": "vGeH6kHsfCLR",
    "outputId": "2552965f-80d6-4d55-c2a2-d17cabeddbc2"
   },
   "outputs": [
    {
     "data": {
      "text/plain": [
       "(<Asset name=AAPL, expected return=0.21303473096895575>,\n",
       " <Asset name=AMZN, expected return=0.20383438644171156>,\n",
       " <Asset name=GOOG, expected return=0.17603641562777242>,\n",
       " <Asset name=BRK-B, expected return=0.12607466046508473>,\n",
       " <Asset name=JNJ, expected return=0.11961944936028944>,\n",
       " <Asset name=JPM, expected return=0.14629494148897396>)"
      ]
     },
     "execution_count": 7,
     "metadata": {},
     "output_type": "execute_result"
    }
   ],
   "source": [
    "assets"
   ]
  },
  {
   "cell_type": "code",
   "execution_count": 8,
   "metadata": {
    "id": "tSGq-wqySY_e"
   },
   "outputs": [
    {
     "ename": "AssertionError",
     "evalue": "Optimization failed: Positive directional derivative for linesearch",
     "output_type": "error",
     "traceback": [
      "\u001b[1;31m---------------------------------------------------------------------------\u001b[0m",
      "\u001b[1;31mAssertionError\u001b[0m                            Traceback (most recent call last)",
      "\u001b[1;32m~\\AppData\\Local\\Temp/ipykernel_932/1879251266.py\u001b[0m in \u001b[0;36m<module>\u001b[1;34m\u001b[0m\n\u001b[0;32m     27\u001b[0m \u001b[0mplt\u001b[0m\u001b[1;33m.\u001b[0m\u001b[0mplot\u001b[0m\u001b[1;33m(\u001b[0m\u001b[0mnp\u001b[0m\u001b[1;33m.\u001b[0m\u001b[0msqrt\u001b[0m\u001b[1;33m(\u001b[0m\u001b[0mportfolio\u001b[0m\u001b[1;33m.\u001b[0m\u001b[0mvariance\u001b[0m\u001b[1;33m)\u001b[0m\u001b[1;33m,\u001b[0m \u001b[0mportfolio\u001b[0m\u001b[1;33m.\u001b[0m\u001b[0mexpected_return\u001b[0m\u001b[1;33m,\u001b[0m \u001b[1;34m'r+'\u001b[0m\u001b[1;33m,\u001b[0m \u001b[0mmarkeredgewidth\u001b[0m\u001b[1;33m=\u001b[0m\u001b[1;36m5\u001b[0m\u001b[1;33m,\u001b[0m \u001b[0mmarkersize\u001b[0m\u001b[1;33m=\u001b[0m\u001b[1;36m20\u001b[0m\u001b[1;33m,\u001b[0m \u001b[0mlabel\u001b[0m\u001b[1;33m=\u001b[0m\u001b[1;34m'optimize_with_risk_tolerance(20)'\u001b[0m\u001b[1;33m)\u001b[0m\u001b[1;33m\u001b[0m\u001b[1;33m\u001b[0m\u001b[0m\n\u001b[0;32m     28\u001b[0m \u001b[1;33m\u001b[0m\u001b[0m\n\u001b[1;32m---> 29\u001b[1;33m \u001b[0mportfolio\u001b[0m\u001b[1;33m.\u001b[0m\u001b[0moptimize_with_expected_return\u001b[0m\u001b[1;33m(\u001b[0m\u001b[1;36m0.25\u001b[0m\u001b[1;33m)\u001b[0m\u001b[1;33m\u001b[0m\u001b[1;33m\u001b[0m\u001b[0m\n\u001b[0m\u001b[0;32m     30\u001b[0m \u001b[0mplt\u001b[0m\u001b[1;33m.\u001b[0m\u001b[0mplot\u001b[0m\u001b[1;33m(\u001b[0m\u001b[0mnp\u001b[0m\u001b[1;33m.\u001b[0m\u001b[0msqrt\u001b[0m\u001b[1;33m(\u001b[0m\u001b[0mportfolio\u001b[0m\u001b[1;33m.\u001b[0m\u001b[0mvariance\u001b[0m\u001b[1;33m)\u001b[0m\u001b[1;33m,\u001b[0m \u001b[0mportfolio\u001b[0m\u001b[1;33m.\u001b[0m\u001b[0mexpected_return\u001b[0m\u001b[1;33m,\u001b[0m \u001b[1;34m'g+'\u001b[0m\u001b[1;33m,\u001b[0m \u001b[0mmarkeredgewidth\u001b[0m\u001b[1;33m=\u001b[0m\u001b[1;36m5\u001b[0m\u001b[1;33m,\u001b[0m \u001b[0mmarkersize\u001b[0m\u001b[1;33m=\u001b[0m\u001b[1;36m20\u001b[0m\u001b[1;33m,\u001b[0m \u001b[0mlabel\u001b[0m\u001b[1;33m=\u001b[0m\u001b[1;34m'optimize_with_expected_return(0.25)'\u001b[0m\u001b[1;33m)\u001b[0m\u001b[1;33m\u001b[0m\u001b[1;33m\u001b[0m\u001b[0m\n\u001b[0;32m     31\u001b[0m \u001b[1;33m\u001b[0m\u001b[0m\n",
      "\u001b[1;32m~\\AppData\\Local\\Temp/ipykernel_932/3114654321.py\u001b[0m in \u001b[0;36moptimize_with_expected_return\u001b[1;34m(self, expected_portfolio_return)\u001b[0m\n\u001b[0;32m     83\u001b[0m     )\n\u001b[0;32m     84\u001b[0m \u001b[1;33m\u001b[0m\u001b[0m\n\u001b[1;32m---> 85\u001b[1;33m     \u001b[1;32massert\u001b[0m \u001b[0mres\u001b[0m\u001b[1;33m.\u001b[0m\u001b[0msuccess\u001b[0m\u001b[1;33m,\u001b[0m \u001b[1;34mf'Optimization failed: {res.message}'\u001b[0m\u001b[1;33m\u001b[0m\u001b[1;33m\u001b[0m\u001b[0m\n\u001b[0m\u001b[0;32m     86\u001b[0m     \u001b[0mself\u001b[0m\u001b[1;33m.\u001b[0m\u001b[0mweights\u001b[0m \u001b[1;33m=\u001b[0m \u001b[0mres\u001b[0m\u001b[1;33m.\u001b[0m\u001b[0mx\u001b[0m\u001b[1;33m.\u001b[0m\u001b[0mreshape\u001b[0m\u001b[1;33m(\u001b[0m\u001b[1;33m-\u001b[0m\u001b[1;36m1\u001b[0m\u001b[1;33m,\u001b[0m \u001b[1;36m1\u001b[0m\u001b[1;33m)\u001b[0m\u001b[1;33m\u001b[0m\u001b[1;33m\u001b[0m\u001b[0m\n\u001b[0;32m     87\u001b[0m \u001b[1;33m\u001b[0m\u001b[0m\n",
      "\u001b[1;31mAssertionError\u001b[0m: Optimization failed: Positive directional derivative for linesearch"
     ]
    },
    {
     "data": {
      "image/png": "[encoded data removed]",
      "text/plain": [
       "<Figure size 864x648 with 1 Axes>"
      ]
     },
     "metadata": {
      "needs_background": "light"
     },
     "output_type": "display_data"
    }
   ],
   "source": [
    "X = []\n",
    "y = []\n",
    "\n",
    "# Drawing random portfolios\n",
    "for i in range(3000):\n",
    "  portfolio = Portfolio(assets)\n",
    "  X.append(np.sqrt(portfolio.variance))\n",
    "  y.append(portfolio.expected_return)\n",
    "\n",
    "plt.scatter(X, y, label='Random portfolios')\n",
    "\n",
    "# Drawing the efficient frontier\n",
    "X = []\n",
    "y = []\n",
    "for rt in np.linspace(-300, 200, 1000):\n",
    "  portfolio.unsafe_optimize_with_risk_tolerance(rt)\n",
    "  X.append(np.sqrt(portfolio.variance))\n",
    "  y.append(portfolio.expected_return)\n",
    "\n",
    "plt.plot(X, y, 'k', linewidth=3, label='Efficient frontier')\n",
    "\n",
    "# Drawing optimized portfolios\n",
    "portfolio.optimize_with_risk_tolerance(0)\n",
    "plt.plot(np.sqrt(portfolio.variance), portfolio.expected_return, 'm+', markeredgewidth=5, markersize=20, label='optimize_with_risk_tolerance(0)')\n",
    "\n",
    "portfolio.optimize_with_risk_tolerance(20)\n",
    "plt.plot(np.sqrt(portfolio.variance), portfolio.expected_return, 'r+', markeredgewidth=5, markersize=20, label='optimize_with_risk_tolerance(20)')\n",
    "\n",
    "portfolio.optimize_with_expected_return(0.25)\n",
    "plt.plot(np.sqrt(portfolio.variance), portfolio.expected_return, 'g+', markeredgewidth=5, markersize=20, label='optimize_with_expected_return(0.25)')\n",
    "\n",
    "portfolio.optimize_sharpe_ratio()\n",
    "plt.plot(np.sqrt(portfolio.variance), portfolio.expected_return, 'y+', markeredgewidth=5, markersize=20, label='optimize_sharpe_ratio()')\n",
    "\n",
    "plt.xlabel('Portfolio standard deviation')\n",
    "plt.ylabel('Portfolio expected (logarithmic) return')\n",
    "plt.legend(loc='lower right')\n",
    "plt.show()"
   ]
  },
  {
   "cell_type": "code",
   "execution_count": null,
   "metadata": {
    "id": "bFgV7RZ_-EV9"
   },
   "outputs": [],
   "source": [
    "pd.options.display.float_format = \"{:,.5f}\".format"
   ]
  },
  {
   "cell_type": "code",
   "execution_count": null,
   "metadata": {
    "id": "i9qAXygFWhbY"
   },
   "outputs": [],
   "source": [
    "portfolio = Portfolio(assets)\n",
    "portfolio.optimize_with_risk_tolerance(0)\n",
    "riskless_weights = portfolio.weights.flatten()\n",
    "\n",
    "portfolio.optimize_with_risk_tolerance(20)\n",
    "weights_risk_tolerance = portfolio.weights.flatten()\n",
    "\n",
    "portfolio.optimize_with_expected_return(0.25)\n",
    "weights_return = portfolio.weights.flatten()\n",
    "\n",
    "portfolio.optimize_sharpe_ratio()\n",
    "weights_sharpe = portfolio.weights.flatten()\n",
    "\n",
    "display(\n",
    "  pd.DataFrame(\n",
    "    list(\n",
    "      zip(\n",
    "        [asset.name for asset in portfolio.assets],\n",
    "        riskless_weights,\n",
    "        weights_risk_tolerance,\n",
    "        weights_return,\n",
    "        weights_sharpe,\n",
    "      )\n",
    "    ),\n",
    "    columns=[\n",
    "      'asset',\n",
    "      'optimize_with_risk_tolerance(0)',\n",
    "      'optimize_with_risk_tolerance(20)',\n",
    "      'optimize_with_expected_return(0.25)',\n",
    "      'optimize_sharpe_ratio()',\n",
    "    ],\n",
    "  )\n",
    ")"
   ]
  },
  {
   "cell_type": "code",
   "execution_count": null,
   "metadata": {},
   "outputs": [],
   "source": []
  }
 ],
 "metadata": {
  "colab": {
   "collapsed_sections": [],
   "name": "Copy of modern_portfolio_theory",
   "provenance": []
  },
  "kernelspec": {
   "display_name": "Python 3 (ipykernel)",
   "language": "python",
   "name": "python3"
  },
  "language_info": {
   "codemirror_mode": {
    "name": "ipython",
    "version": 3
   },
   "file_extension": ".py",
   "mimetype": "text/x-python",
   "name": "python",
   "nbconvert_exporter": "python",
   "pygments_lexer": "ipython3",
   "version": "3.10.0"
  }
 },
 "nbformat": 4,
 "nbformat_minor": 4
}
