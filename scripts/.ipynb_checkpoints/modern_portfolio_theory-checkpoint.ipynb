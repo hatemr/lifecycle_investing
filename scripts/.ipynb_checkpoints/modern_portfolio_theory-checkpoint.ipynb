{
 "cells": [
  {
   "cell_type": "markdown",
   "metadata": {},
   "source": [
    "**This notebook is not to be taken as financial advice. I am not a qualified professional, so this notebook is only meant to be used for educational/entertainment purposes. Investing/trading can lead to losses.**"
   ]
  },
  {
   "cell_type": "code",
   "execution_count": 1,
   "metadata": {
    "id": "vINC2lSLSJPj"
   },
   "outputs": [],
   "source": [
    "import numpy as np\n",
    "import pandas as pd\n",
    "from scipy.optimize import minimize\n",
    "import matplotlib.pyplot as plt\n",
    "from IPython.display import display\n",
    "\n",
    "from typing import List, Tuple\n",
    "from functools import cache  # Python 3.9 required\n",
    "\n",
    "import yfinance as yf"
   ]
  },
  {
   "cell_type": "code",
   "execution_count": 2,
   "metadata": {
    "id": "bKUbNnbxWnyv"
   },
   "outputs": [],
   "source": [
    "from matplotlib import rcParams\n",
    "rcParams['figure.figsize'] = 12, 9"
   ]
  },
  {
   "cell_type": "code",
   "execution_count": 3,
   "metadata": {
    "id": "Nfkw-cyYM2NP"
   },
   "outputs": [],
   "source": [
    "TREASURY_BILL_RATE = 0.11  #%, Jan 2021\n",
    "TRADING_DAYS_PER_YEAR = 250"
   ]
  },
  {
   "cell_type": "code",
   "execution_count": 77,
   "metadata": {
    "id": "j6kXdUQLV5JH"
   },
   "outputs": [],
   "source": [
    "# Needed for type hinting\n",
    "class Asset:\n",
    "  pass\n",
    "\n",
    "\n",
    "def get_log_period_returns(price_history: pd.DataFrame):\n",
    "  close = price_history['Close'].values  \n",
    "  return np.log(close[1:] / close[:-1]).reshape(-1, 1)\n",
    "\n",
    "\n",
    "# daily_price_history has to at least have a column, called 'Close'\n",
    "class Asset:\n",
    "  def __init__(self, name: str, daily_price_history: pd.DataFrame):\n",
    "    self.name = name\n",
    "    self.daily_returns = get_log_period_returns(daily_price_history)\n",
    "    self.expected_daily_return = np.mean(self.daily_returns)\n",
    "  \n",
    "  @property\n",
    "  def expected_return(self):\n",
    "    return TRADING_DAYS_PER_YEAR * self.expected_daily_return\n",
    "\n",
    "  def __repr__(self):\n",
    "    return f'<Asset name={self.name}, expected return={self.expected_return}>'\n",
    "\n",
    "  @staticmethod\n",
    "  @cache\n",
    "  def covariance_matrix(assets: Tuple[Asset]):  # tuple for hashing in the cache\n",
    "    product_expectation = np.zeros((len(assets), len(assets)))\n",
    "    for i in range(len(assets)):\n",
    "      for j in range(len(assets)):\n",
    "        if i == j:\n",
    "          product_expectation[i][j] = np.mean(assets[i].daily_returns * assets[j].daily_returns)\n",
    "        else:\n",
    "          product_expectation[i][j] = np.mean(assets[i].daily_returns @ assets[j].daily_returns.T)\n",
    "    \n",
    "    product_expectation *= (TRADING_DAYS_PER_YEAR - 1) ** 2\n",
    "\n",
    "    expected_returns = np.array([asset.expected_return for asset in assets]).reshape(-1, 1)\n",
    "    product_of_expectations = expected_returns @ expected_returns.T\n",
    "\n",
    "    return product_expectation - product_of_expectations\n",
    "\n",
    "\n",
    "def random_weights(weight_count, low=0.0, high=1.0):\n",
    "    weights = np.random.uniform(low=low, high=high, size=(weight_count, 1))\n",
    "    weights /= np.sum(weights)\n",
    "    return weights.reshape(-1, 1)\n",
    "\n",
    "\n",
    "class Portfolio:\n",
    "  def __init__(self, assets: Tuple[Asset]):\n",
    "    self.assets = assets\n",
    "    self.asset_expected_returns = np.array([asset.expected_return for asset in assets]).reshape(-1, 1)\n",
    "    self.covariance_matrix = Asset.covariance_matrix(assets)\n",
    "    self.weights = random_weights(len(assets), low=0.0, high=1.0)\n",
    "    \n",
    "  def unsafe_optimize_with_risk_tolerance(self, risk_tolerance: float):\n",
    "    res = minimize(\n",
    "      lambda w: self._variance(w) - risk_tolerance * self._expected_return(w),\n",
    "      random_weights(self.weights.size),\n",
    "      constraints=[\n",
    "        {'type': 'eq', 'fun': lambda w: np.sum(w) - 1.},\n",
    "      ],\n",
    "      bounds=[(-1., 2.) for i in range(self.weights.size)]\n",
    "    )\n",
    "\n",
    "    assert res.success, f'Optimization failed: {res.message}'\n",
    "    self.weights = res.x.reshape(-1, 1)\n",
    "  \n",
    "  def optimize_with_risk_tolerance(self, risk_tolerance: float):\n",
    "    assert risk_tolerance >= 0.\n",
    "    return self.unsafe_optimize_with_risk_tolerance(risk_tolerance)\n",
    "  \n",
    "  def optimize_with_expected_return(self, expected_portfolio_return: float):\n",
    "    res = minimize(\n",
    "      lambda w: self._variance(w),\n",
    "      random_weights(self.weights.size),\n",
    "      constraints=[\n",
    "        {'type': 'eq', 'fun': lambda w: np.sum(w) - 1.},\n",
    "        {'type': 'eq', 'fun': lambda w: self._expected_return(w) - expected_portfolio_return},\n",
    "      ],\n",
    "      bounds=[(-1., 2.) for i in range(self.weights.size)]\n",
    "    )\n",
    "\n",
    "    assert res.success, f'Optimization failed: {res.message}'\n",
    "    self.weights = res.x.reshape(-1, 1)\n",
    "\n",
    "  def optimize_sharpe_ratio(self):\n",
    "    # Maximize Sharpe ratio = minimize minus Sharpe ratio\n",
    "    res = minimize(\n",
    "      lambda w: -(self._expected_return(w) - TREASURY_BILL_RATE / 100) / np.sqrt(self._variance(w)),\n",
    "      random_weights(self.weights.size),\n",
    "      constraints=[\n",
    "        {'type': 'eq', 'fun': lambda w: np.sum(w) - 1.},\n",
    "      ],\n",
    "      bounds=[(-1., 2.) for i in range(self.weights.size)]\n",
    "    )\n",
    "\n",
    "    assert res.success, f'Optimization failed: {res.message}'\n",
    "    self.weights = res.x.reshape(-1, 1)\n",
    "\n",
    "  def _expected_return(self, w):\n",
    "    return (self.asset_expected_returns.T @ w.reshape(-1, 1))[0][0]\n",
    "  \n",
    "  def _variance(self, w):\n",
    "    return (w.reshape(-1, 1).T @ self.covariance_matrix @ w.reshape(-1, 1))[0][0]\n",
    "\n",
    "  @property\n",
    "  def expected_return(self):\n",
    "    return self._expected_return(self.weights)\n",
    "  \n",
    "  @property\n",
    "  def variance(self):\n",
    "    return self._variance(self.weights)\n",
    "\n",
    "  def __repr__(self):\n",
    "    return f'<Portfolio assets={[asset.name for asset in self.assets]}, expected return={self.expected_return}, variance={self.variance}>'"
   ]
  },
  {
   "cell_type": "code",
   "execution_count": 78,
   "metadata": {
    "id": "5l8UeNUZe_Sk"
   },
   "outputs": [],
   "source": [
    "def yf_retrieve_data(tickers: List[str]):\n",
    "  \"\"\"Retrive price data from Yahoo Finance\"\"\"\n",
    "  dataframes = []\n",
    "\n",
    "  for ticker_name in tickers:\n",
    "    ticker = yf.Ticker(ticker_name)\n",
    "    history = ticker.history(period='10y')\n",
    "\n",
    "    if history.isnull().any(axis=1).iloc[0]:  # the first row can have NaNs\n",
    "      history = history.iloc[1:]\n",
    "  \n",
    "    assert not history.isnull().any(axis=None), f'history has NaNs in {ticker_name}'\n",
    "    dataframes.append(history)\n",
    "  \n",
    "  return dataframes"
   ]
  },
  {
   "cell_type": "markdown",
   "metadata": {
    "id": "rMtT2WxdRLuZ"
   },
   "source": [
    "## Usage example"
   ]
  },
  {
   "cell_type": "code",
   "execution_count": 79,
   "metadata": {
    "id": "c1XK-SDRLd64"
   },
   "outputs": [
    {
     "name": "stdout",
     "output_type": "stream",
     "text": [
      "      Exp. Ret. SD\n",
      "ITOT   0.121     0.011\n",
      "VNQ   0.069     0.013\n",
      "VEA   0.054     0.011\n",
      "VWO   0.02     0.013\n",
      "SGOV   0.005     0.0\n"
     ]
    }
   ],
   "source": [
    "# ITOT - US\n",
    "# VNQ - REITs\n",
    "# SGOV - T-bills\n",
    "# VEA - developed markets, ex US\n",
    "# VWO - emerging markets\n",
    "stocks = ['ITOT', 'VNQ', 'VEA', 'VWO','SGOV'] \n",
    "# stocks = ['AAPL', 'AMZN', 'GOOG', 'BRK-B', 'JNJ', 'JPM']\n",
    "\n",
    "daily_dataframes = yf_retrieve_data(stocks)\n",
    "assets = tuple([Asset(name, daily_df) for name, daily_df in zip(stocks, daily_dataframes)])\n",
    "\n",
    "print('      Exp. Ret.', 'SD')\n",
    "for a in assets:\n",
    "    print(a.name, ' ', round(a.expected_return, 3), '   ', round(np.std(a.daily_returns), 3))"
   ]
  },
  {
   "cell_type": "code",
   "execution_count": 80,
   "metadata": {
    "id": "tSGq-wqySY_e"
   },
   "outputs": [
    {
     "data": {
      "image/png": "[encoded data removed]",
      "text/plain": [
       "<Figure size 864x648 with 1 Axes>"
      ]
     },
     "metadata": {
      "needs_background": "light"
     },
     "output_type": "display_data"
    }
   ],
   "source": [
    "assets\n",
    "\n",
    "X = []\n",
    "y = []\n",
    "\n",
    "# Drawing random portfolios\n",
    "for i in range(3000):\n",
    "  portfolio = Portfolio(assets)\n",
    "  X.append(np.sqrt(portfolio.variance))\n",
    "  y.append(portfolio.expected_return)\n",
    "\n",
    "plt.scatter(X, y, label='Random portfolios')\n",
    "\n",
    "# Drawing the efficient frontier\n",
    "X = []\n",
    "y = []\n",
    "for rt in np.linspace(-300, 300, 1000):\n",
    "  portfolio.unsafe_optimize_with_risk_tolerance(rt)\n",
    "  X.append(np.sqrt(portfolio.variance))\n",
    "  y.append(portfolio.expected_return)\n",
    "\n",
    "plt.plot(X, y, 'k', linewidth=3, label='Efficient frontier')\n",
    "\n",
    "# Drawing optimized portfolios\n",
    "portfolio.optimize_with_risk_tolerance(0)\n",
    "plt.plot(np.sqrt(portfolio.variance), \n",
    "         portfolio.expected_return, \n",
    "         'm+', \n",
    "         markeredgewidth=5, markersize=20, label='optimize_with_risk_tolerance(0)')\n",
    "\n",
    "portfolio.optimize_with_risk_tolerance(20)\n",
    "plt.plot(np.sqrt(portfolio.variance), \n",
    "         portfolio.expected_return, \n",
    "         'r+', markeredgewidth=5, markersize=20, label='optimize_with_risk_tolerance(20)')\n",
    "\n",
    "portfolio.optimize_with_expected_return(0.235)\n",
    "plt.plot(np.sqrt(portfolio.variance), \n",
    "         portfolio.expected_return, \n",
    "         'g+', markeredgewidth=5, markersize=20, label='optimize_with_expected_return(0.235)')\n",
    "\n",
    "portfolio.optimize_sharpe_ratio()\n",
    "plt.plot(np.sqrt(portfolio.variance), \n",
    "         portfolio.expected_return, \n",
    "         'y+', markeredgewidth=5, markersize=20, label='optimize_sharpe_ratio()')\n",
    "\n",
    "portfolio = Portfolio(assets)\n",
    "portfolio.weights = np.array([1,0,0,0,0])\n",
    "plt.plot(np.sqrt(portfolio.variance), \n",
    "         portfolio.expected_return, \n",
    "         'k+', markeredgewidth=5, markersize=20, label='100 stocks')\n",
    "\n",
    "portfolio = Portfolio(assets)\n",
    "portfolio.weights = np.array([2,0,0,0,-1])\n",
    "plt.plot(np.sqrt(portfolio.variance), \n",
    "         portfolio.expected_return, \n",
    "         'b+', markeredgewidth=5, markersize=20, label='Leveraged 2-to-1')\n",
    "\n",
    "plt.xlabel('Portfolio standard deviation')\n",
    "plt.ylabel('Portfolio expected (logarithmic) return')\n",
    "plt.legend(loc='lower right')\n",
    "plt.show()"
   ]
  },
  {
   "cell_type": "code",
   "execution_count": 56,
   "metadata": {
    "id": "bFgV7RZ_-EV9"
   },
   "outputs": [],
   "source": [
    "pd.options.display.float_format = \"{:,.5f}\".format"
   ]
  },
  {
   "cell_type": "code",
   "execution_count": 61,
   "metadata": {
    "id": "i9qAXygFWhbY"
   },
   "outputs": [
    {
     "data": {
      "text/html": [
       "<div>\n",
       "<style scoped>\n",
       "    .dataframe tbody tr th:only-of-type {\n",
       "        vertical-align: middle;\n",
       "    }\n",
       "\n",
       "    .dataframe tbody tr th {\n",
       "        vertical-align: top;\n",
       "    }\n",
       "\n",
       "    .dataframe thead th {\n",
       "        text-align: right;\n",
       "    }\n",
       "</style>\n",
       "<table border=\"1\" class=\"dataframe\">\n",
       "  <thead>\n",
       "    <tr style=\"text-align: right;\">\n",
       "      <th></th>\n",
       "      <th>asset</th>\n",
       "      <th>optimize_with_risk_tolerance(0)</th>\n",
       "      <th>optimize_with_risk_tolerance(20)</th>\n",
       "      <th>optimize_with_expected_return(0.235)</th>\n",
       "      <th>optimize_sharpe_ratio()</th>\n",
       "    </tr>\n",
       "  </thead>\n",
       "  <tbody>\n",
       "    <tr>\n",
       "      <th>0</th>\n",
       "      <td>ITOT</td>\n",
       "      <td>0.00006</td>\n",
       "      <td>0.15064</td>\n",
       "      <td>1.98938</td>\n",
       "      <td>0.00186</td>\n",
       "    </tr>\n",
       "    <tr>\n",
       "      <th>1</th>\n",
       "      <td>SGOV</td>\n",
       "      <td>0.99994</td>\n",
       "      <td>0.84936</td>\n",
       "      <td>-0.98938</td>\n",
       "      <td>0.99814</td>\n",
       "    </tr>\n",
       "  </tbody>\n",
       "</table>\n",
       "</div>"
      ],
      "text/plain": [
       "  asset  optimize_with_risk_tolerance(0)  optimize_with_risk_tolerance(20)  \\\n",
       "0  ITOT                          0.00006                           0.15064   \n",
       "1  SGOV                          0.99994                           0.84936   \n",
       "\n",
       "   optimize_with_expected_return(0.235)  optimize_sharpe_ratio()  \n",
       "0                               1.98938                  0.00186  \n",
       "1                              -0.98938                  0.99814  "
      ]
     },
     "metadata": {},
     "output_type": "display_data"
    }
   ],
   "source": [
    "portfolio = Portfolio(assets)\n",
    "portfolio.optimize_with_risk_tolerance(0)\n",
    "riskless_weights = portfolio.weights.flatten()\n",
    "\n",
    "portfolio.optimize_with_risk_tolerance(20)\n",
    "weights_risk_tolerance = portfolio.weights.flatten()\n",
    "\n",
    "portfolio.optimize_with_expected_return(0.235)\n",
    "weights_return = portfolio.weights.flatten()\n",
    "\n",
    "portfolio.optimize_sharpe_ratio()\n",
    "weights_sharpe = portfolio.weights.flatten()\n",
    "\n",
    "display(\n",
    "  pd.DataFrame(\n",
    "    list(\n",
    "      zip(\n",
    "        [asset.name for asset in portfolio.assets],\n",
    "        riskless_weights,\n",
    "        weights_risk_tolerance,\n",
    "        weights_return,\n",
    "        weights_sharpe,\n",
    "      )\n",
    "    ),\n",
    "    columns=[\n",
    "      'asset',\n",
    "      'optimize_with_risk_tolerance(0)',\n",
    "      'optimize_with_risk_tolerance(20)',\n",
    "      'optimize_with_expected_return(0.235)',\n",
    "      'optimize_sharpe_ratio()',\n",
    "    ],\n",
    "  )\n",
    ")"
   ]
  },
  {
   "cell_type": "code",
   "execution_count": null,
   "metadata": {},
   "outputs": [],
   "source": []
  }
 ],
 "metadata": {
  "colab": {
   "collapsed_sections": [],
   "name": "Copy of modern_portfolio_theory",
   "provenance": []
  },
  "kernelspec": {
   "display_name": "Python 3 (ipykernel)",
   "language": "python",
   "name": "python3"
  },
  "language_info": {
   "codemirror_mode": {
    "name": "ipython",
    "version": 3
   },
   "file_extension": ".py",
   "mimetype": "text/x-python",
   "name": "python",
   "nbconvert_exporter": "python",
   "pygments_lexer": "ipython3",
   "version": "3.10.0"
  }
 },
 "nbformat": 4,
 "nbformat_minor": 4
}
